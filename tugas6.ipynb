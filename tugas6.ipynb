{
  "nbformat": 4,
  "nbformat_minor": 0,
  "metadata": {
    "colab": {
      "provenance": [],
      "collapsed_sections": []
    },
    "kernelspec": {
      "name": "python3",
      "display_name": "Python 3"
    },
    "language_info": {
      "name": "python"
    }
  },
  "cells": [
    {
      "cell_type": "code",
      "execution_count": null,
      "metadata": {
        "id": "9PDx4FIsm8op"
      },
      "outputs": [],
      "source": []
    },
    {
      "cell_type": "code",
      "source": [],
      "metadata": {
        "id": "E4FBX9IgnmoE"
      },
      "execution_count": null,
      "outputs": []
    },
    {
      "cell_type": "code",
      "source": [
        "df"
      ],
      "metadata": {
        "colab": {
          "base_uri": "https://localhost:8080/",
          "height": 1000
        },
        "id": "3vABzjbFoBRt",
        "outputId": "ca2141cc-a611-451e-954e-b47d26b6984c"
      },
      "execution_count": null,
      "outputs": [
        {
          "output_type": "execute_result",
          "data": {
            "text/plain": [
              "    No. Daerah  Jumlah RW  Jumlah Kepala Keluarga  Rata2 Usia  Keluarga  \\\n",
              "0     1      A          5                      20                  36.5   \n",
              "1     2      B          4                      18                  42.9   \n",
              "2     3      C          9                      30                  51.6   \n",
              "3     4      D         12                      42                  41.5   \n",
              "4     5      B          4                      50                  32.6   \n",
              "5     6      F         15                      16                  28.9   \n",
              "6     7      D         18                      28                  27.5   \n",
              "7     8      E         11                      36                  36.4   \n",
              "8     9      F         10                      28                  45.7   \n",
              "9    10      A          8                      52                  54.6   \n",
              "10   11      B         14                      43                  29.5   \n",
              "11   12      F         13                      13                  41.8   \n",
              "12   13      D         10                      25                  33.5   \n",
              "13   14      F          8                      30                  27.9   \n",
              "14   15      E          5                      27                  57.6   \n",
              "15   16      C          4                      48                  25.7   \n",
              "16   17      D          6                      45                  34.9   \n",
              "17   18      B          7                      35                  42.9   \n",
              "18   19      E          8                      26                  55.8   \n",
              "19   20      E         11                      18                  32.5   \n",
              "20   21      F         14                      39                  40.5   \n",
              "21   22      E         16                      29                  38.5   \n",
              "22   23      C          4                      24                  24.9   \n",
              "23   24      D         16                      29                  29.8   \n",
              "24   25      A         14                      16                  41.8   \n",
              "25   26      A          7                      58                  35.7   \n",
              "26   27      E         12                      41                  56.8   \n",
              "27   28      B          9                      21                  59.4   \n",
              "28   29      B         18                      34                  51.5   \n",
              "29   30      D         20                      24                  46.8   \n",
              "30   31      B         15                      46                  25.6   \n",
              "31   32      F         13                      33                  37.4   \n",
              "32   33      E          4                      17                  29.6   \n",
              "33   34      D          2                      26                  48.9   \n",
              "34   35      A          3                      39                  54.9   \n",
              "35   36      C         15                      42                  35.7   \n",
              "36   37      E         10                      28                  24.9   \n",
              "37   38      F          9                      34                  42.9   \n",
              "38   39      E         12                      55                  25.8   \n",
              "39   40      D          5                      59                  50.8   \n",
              "40   41      E          6                      40                  31.9   \n",
              "41   42      D          3                      20                  35.8   \n",
              "42   43      F         12                      23                  28.6   \n",
              "43   44      A         19                      15                  52.6   \n",
              "44   45      A         17                      35                  45.4   \n",
              "45   46      B          9                      28                  35.8   \n",
              "46   47      D         11                      30                  40.8   \n",
              "47   48      D          5                      18                  36.8   \n",
              "48   49      F          4                      29                  24.9   \n",
              "49   50      E         10                      47                  33.8   \n",
              "\n",
              "   Nominal Bantuan  \n",
              "0          600.000  \n",
              "1        1.200.000  \n",
              "2          800.000  \n",
              "3        1.200.000  \n",
              "4        1.500.000  \n",
              "5        1.000.000  \n",
              "6          600.000  \n",
              "7          800.000  \n",
              "8        1.200.000  \n",
              "9        1.500.000  \n",
              "10         800.000  \n",
              "11         600.000  \n",
              "12       1.000.000  \n",
              "13         800.000  \n",
              "14       1.000.000  \n",
              "15         800.000  \n",
              "16       1.500.000  \n",
              "17         800.000  \n",
              "18         600.000  \n",
              "19         600.000  \n",
              "20         800.000  \n",
              "21       1.500.000  \n",
              "22         600.000  \n",
              "23       1.500.000  \n",
              "24       1.000.000  \n",
              "25         800.000  \n",
              "26       1.200.000  \n",
              "27         600.000  \n",
              "28       1.500.000  \n",
              "29       1.200.000  \n",
              "30       1.000.000  \n",
              "31         600.000  \n",
              "32       1.200.000  \n",
              "33       1.000.000  \n",
              "34       1.200.000  \n",
              "35         800.000  \n",
              "36       1.000.000  \n",
              "37       1.200.000  \n",
              "38         800.000  \n",
              "39       1.200.000  \n",
              "40         800.000  \n",
              "41       1.500.000  \n",
              "42         600.000  \n",
              "43       1.200.000  \n",
              "44       1.000.000  \n",
              "45       1.200.000  \n",
              "46         800.000  \n",
              "47       1.500.000  \n",
              "48       1.000.000  \n",
              "49         600.000  "
            ],
            "text/html": [
              "\n",
              "  <div id=\"df-03084588-235c-4a42-851a-ff1d4c7a2e24\">\n",
              "    <div class=\"colab-df-container\">\n",
              "      <div>\n",
              "<style scoped>\n",
              "    .dataframe tbody tr th:only-of-type {\n",
              "        vertical-align: middle;\n",
              "    }\n",
              "\n",
              "    .dataframe tbody tr th {\n",
              "        vertical-align: top;\n",
              "    }\n",
              "\n",
              "    .dataframe thead th {\n",
              "        text-align: right;\n",
              "    }\n",
              "</style>\n",
              "<table border=\"1\" class=\"dataframe\">\n",
              "  <thead>\n",
              "    <tr style=\"text-align: right;\">\n",
              "      <th></th>\n",
              "      <th>No.</th>\n",
              "      <th>Daerah</th>\n",
              "      <th>Jumlah RW</th>\n",
              "      <th>Jumlah Kepala Keluarga</th>\n",
              "      <th>Rata2 Usia  Keluarga</th>\n",
              "      <th>Nominal Bantuan</th>\n",
              "    </tr>\n",
              "  </thead>\n",
              "  <tbody>\n",
              "    <tr>\n",
              "      <th>0</th>\n",
              "      <td>1</td>\n",
              "      <td>A</td>\n",
              "      <td>5</td>\n",
              "      <td>20</td>\n",
              "      <td>36.5</td>\n",
              "      <td>600.000</td>\n",
              "    </tr>\n",
              "    <tr>\n",
              "      <th>1</th>\n",
              "      <td>2</td>\n",
              "      <td>B</td>\n",
              "      <td>4</td>\n",
              "      <td>18</td>\n",
              "      <td>42.9</td>\n",
              "      <td>1.200.000</td>\n",
              "    </tr>\n",
              "    <tr>\n",
              "      <th>2</th>\n",
              "      <td>3</td>\n",
              "      <td>C</td>\n",
              "      <td>9</td>\n",
              "      <td>30</td>\n",
              "      <td>51.6</td>\n",
              "      <td>800.000</td>\n",
              "    </tr>\n",
              "    <tr>\n",
              "      <th>3</th>\n",
              "      <td>4</td>\n",
              "      <td>D</td>\n",
              "      <td>12</td>\n",
              "      <td>42</td>\n",
              "      <td>41.5</td>\n",
              "      <td>1.200.000</td>\n",
              "    </tr>\n",
              "    <tr>\n",
              "      <th>4</th>\n",
              "      <td>5</td>\n",
              "      <td>B</td>\n",
              "      <td>4</td>\n",
              "      <td>50</td>\n",
              "      <td>32.6</td>\n",
              "      <td>1.500.000</td>\n",
              "    </tr>\n",
              "    <tr>\n",
              "      <th>5</th>\n",
              "      <td>6</td>\n",
              "      <td>F</td>\n",
              "      <td>15</td>\n",
              "      <td>16</td>\n",
              "      <td>28.9</td>\n",
              "      <td>1.000.000</td>\n",
              "    </tr>\n",
              "    <tr>\n",
              "      <th>6</th>\n",
              "      <td>7</td>\n",
              "      <td>D</td>\n",
              "      <td>18</td>\n",
              "      <td>28</td>\n",
              "      <td>27.5</td>\n",
              "      <td>600.000</td>\n",
              "    </tr>\n",
              "    <tr>\n",
              "      <th>7</th>\n",
              "      <td>8</td>\n",
              "      <td>E</td>\n",
              "      <td>11</td>\n",
              "      <td>36</td>\n",
              "      <td>36.4</td>\n",
              "      <td>800.000</td>\n",
              "    </tr>\n",
              "    <tr>\n",
              "      <th>8</th>\n",
              "      <td>9</td>\n",
              "      <td>F</td>\n",
              "      <td>10</td>\n",
              "      <td>28</td>\n",
              "      <td>45.7</td>\n",
              "      <td>1.200.000</td>\n",
              "    </tr>\n",
              "    <tr>\n",
              "      <th>9</th>\n",
              "      <td>10</td>\n",
              "      <td>A</td>\n",
              "      <td>8</td>\n",
              "      <td>52</td>\n",
              "      <td>54.6</td>\n",
              "      <td>1.500.000</td>\n",
              "    </tr>\n",
              "    <tr>\n",
              "      <th>10</th>\n",
              "      <td>11</td>\n",
              "      <td>B</td>\n",
              "      <td>14</td>\n",
              "      <td>43</td>\n",
              "      <td>29.5</td>\n",
              "      <td>800.000</td>\n",
              "    </tr>\n",
              "    <tr>\n",
              "      <th>11</th>\n",
              "      <td>12</td>\n",
              "      <td>F</td>\n",
              "      <td>13</td>\n",
              "      <td>13</td>\n",
              "      <td>41.8</td>\n",
              "      <td>600.000</td>\n",
              "    </tr>\n",
              "    <tr>\n",
              "      <th>12</th>\n",
              "      <td>13</td>\n",
              "      <td>D</td>\n",
              "      <td>10</td>\n",
              "      <td>25</td>\n",
              "      <td>33.5</td>\n",
              "      <td>1.000.000</td>\n",
              "    </tr>\n",
              "    <tr>\n",
              "      <th>13</th>\n",
              "      <td>14</td>\n",
              "      <td>F</td>\n",
              "      <td>8</td>\n",
              "      <td>30</td>\n",
              "      <td>27.9</td>\n",
              "      <td>800.000</td>\n",
              "    </tr>\n",
              "    <tr>\n",
              "      <th>14</th>\n",
              "      <td>15</td>\n",
              "      <td>E</td>\n",
              "      <td>5</td>\n",
              "      <td>27</td>\n",
              "      <td>57.6</td>\n",
              "      <td>1.000.000</td>\n",
              "    </tr>\n",
              "    <tr>\n",
              "      <th>15</th>\n",
              "      <td>16</td>\n",
              "      <td>C</td>\n",
              "      <td>4</td>\n",
              "      <td>48</td>\n",
              "      <td>25.7</td>\n",
              "      <td>800.000</td>\n",
              "    </tr>\n",
              "    <tr>\n",
              "      <th>16</th>\n",
              "      <td>17</td>\n",
              "      <td>D</td>\n",
              "      <td>6</td>\n",
              "      <td>45</td>\n",
              "      <td>34.9</td>\n",
              "      <td>1.500.000</td>\n",
              "    </tr>\n",
              "    <tr>\n",
              "      <th>17</th>\n",
              "      <td>18</td>\n",
              "      <td>B</td>\n",
              "      <td>7</td>\n",
              "      <td>35</td>\n",
              "      <td>42.9</td>\n",
              "      <td>800.000</td>\n",
              "    </tr>\n",
              "    <tr>\n",
              "      <th>18</th>\n",
              "      <td>19</td>\n",
              "      <td>E</td>\n",
              "      <td>8</td>\n",
              "      <td>26</td>\n",
              "      <td>55.8</td>\n",
              "      <td>600.000</td>\n",
              "    </tr>\n",
              "    <tr>\n",
              "      <th>19</th>\n",
              "      <td>20</td>\n",
              "      <td>E</td>\n",
              "      <td>11</td>\n",
              "      <td>18</td>\n",
              "      <td>32.5</td>\n",
              "      <td>600.000</td>\n",
              "    </tr>\n",
              "    <tr>\n",
              "      <th>20</th>\n",
              "      <td>21</td>\n",
              "      <td>F</td>\n",
              "      <td>14</td>\n",
              "      <td>39</td>\n",
              "      <td>40.5</td>\n",
              "      <td>800.000</td>\n",
              "    </tr>\n",
              "    <tr>\n",
              "      <th>21</th>\n",
              "      <td>22</td>\n",
              "      <td>E</td>\n",
              "      <td>16</td>\n",
              "      <td>29</td>\n",
              "      <td>38.5</td>\n",
              "      <td>1.500.000</td>\n",
              "    </tr>\n",
              "    <tr>\n",
              "      <th>22</th>\n",
              "      <td>23</td>\n",
              "      <td>C</td>\n",
              "      <td>4</td>\n",
              "      <td>24</td>\n",
              "      <td>24.9</td>\n",
              "      <td>600.000</td>\n",
              "    </tr>\n",
              "    <tr>\n",
              "      <th>23</th>\n",
              "      <td>24</td>\n",
              "      <td>D</td>\n",
              "      <td>16</td>\n",
              "      <td>29</td>\n",
              "      <td>29.8</td>\n",
              "      <td>1.500.000</td>\n",
              "    </tr>\n",
              "    <tr>\n",
              "      <th>24</th>\n",
              "      <td>25</td>\n",
              "      <td>A</td>\n",
              "      <td>14</td>\n",
              "      <td>16</td>\n",
              "      <td>41.8</td>\n",
              "      <td>1.000.000</td>\n",
              "    </tr>\n",
              "    <tr>\n",
              "      <th>25</th>\n",
              "      <td>26</td>\n",
              "      <td>A</td>\n",
              "      <td>7</td>\n",
              "      <td>58</td>\n",
              "      <td>35.7</td>\n",
              "      <td>800.000</td>\n",
              "    </tr>\n",
              "    <tr>\n",
              "      <th>26</th>\n",
              "      <td>27</td>\n",
              "      <td>E</td>\n",
              "      <td>12</td>\n",
              "      <td>41</td>\n",
              "      <td>56.8</td>\n",
              "      <td>1.200.000</td>\n",
              "    </tr>\n",
              "    <tr>\n",
              "      <th>27</th>\n",
              "      <td>28</td>\n",
              "      <td>B</td>\n",
              "      <td>9</td>\n",
              "      <td>21</td>\n",
              "      <td>59.4</td>\n",
              "      <td>600.000</td>\n",
              "    </tr>\n",
              "    <tr>\n",
              "      <th>28</th>\n",
              "      <td>29</td>\n",
              "      <td>B</td>\n",
              "      <td>18</td>\n",
              "      <td>34</td>\n",
              "      <td>51.5</td>\n",
              "      <td>1.500.000</td>\n",
              "    </tr>\n",
              "    <tr>\n",
              "      <th>29</th>\n",
              "      <td>30</td>\n",
              "      <td>D</td>\n",
              "      <td>20</td>\n",
              "      <td>24</td>\n",
              "      <td>46.8</td>\n",
              "      <td>1.200.000</td>\n",
              "    </tr>\n",
              "    <tr>\n",
              "      <th>30</th>\n",
              "      <td>31</td>\n",
              "      <td>B</td>\n",
              "      <td>15</td>\n",
              "      <td>46</td>\n",
              "      <td>25.6</td>\n",
              "      <td>1.000.000</td>\n",
              "    </tr>\n",
              "    <tr>\n",
              "      <th>31</th>\n",
              "      <td>32</td>\n",
              "      <td>F</td>\n",
              "      <td>13</td>\n",
              "      <td>33</td>\n",
              "      <td>37.4</td>\n",
              "      <td>600.000</td>\n",
              "    </tr>\n",
              "    <tr>\n",
              "      <th>32</th>\n",
              "      <td>33</td>\n",
              "      <td>E</td>\n",
              "      <td>4</td>\n",
              "      <td>17</td>\n",
              "      <td>29.6</td>\n",
              "      <td>1.200.000</td>\n",
              "    </tr>\n",
              "    <tr>\n",
              "      <th>33</th>\n",
              "      <td>34</td>\n",
              "      <td>D</td>\n",
              "      <td>2</td>\n",
              "      <td>26</td>\n",
              "      <td>48.9</td>\n",
              "      <td>1.000.000</td>\n",
              "    </tr>\n",
              "    <tr>\n",
              "      <th>34</th>\n",
              "      <td>35</td>\n",
              "      <td>A</td>\n",
              "      <td>3</td>\n",
              "      <td>39</td>\n",
              "      <td>54.9</td>\n",
              "      <td>1.200.000</td>\n",
              "    </tr>\n",
              "    <tr>\n",
              "      <th>35</th>\n",
              "      <td>36</td>\n",
              "      <td>C</td>\n",
              "      <td>15</td>\n",
              "      <td>42</td>\n",
              "      <td>35.7</td>\n",
              "      <td>800.000</td>\n",
              "    </tr>\n",
              "    <tr>\n",
              "      <th>36</th>\n",
              "      <td>37</td>\n",
              "      <td>E</td>\n",
              "      <td>10</td>\n",
              "      <td>28</td>\n",
              "      <td>24.9</td>\n",
              "      <td>1.000.000</td>\n",
              "    </tr>\n",
              "    <tr>\n",
              "      <th>37</th>\n",
              "      <td>38</td>\n",
              "      <td>F</td>\n",
              "      <td>9</td>\n",
              "      <td>34</td>\n",
              "      <td>42.9</td>\n",
              "      <td>1.200.000</td>\n",
              "    </tr>\n",
              "    <tr>\n",
              "      <th>38</th>\n",
              "      <td>39</td>\n",
              "      <td>E</td>\n",
              "      <td>12</td>\n",
              "      <td>55</td>\n",
              "      <td>25.8</td>\n",
              "      <td>800.000</td>\n",
              "    </tr>\n",
              "    <tr>\n",
              "      <th>39</th>\n",
              "      <td>40</td>\n",
              "      <td>D</td>\n",
              "      <td>5</td>\n",
              "      <td>59</td>\n",
              "      <td>50.8</td>\n",
              "      <td>1.200.000</td>\n",
              "    </tr>\n",
              "    <tr>\n",
              "      <th>40</th>\n",
              "      <td>41</td>\n",
              "      <td>E</td>\n",
              "      <td>6</td>\n",
              "      <td>40</td>\n",
              "      <td>31.9</td>\n",
              "      <td>800.000</td>\n",
              "    </tr>\n",
              "    <tr>\n",
              "      <th>41</th>\n",
              "      <td>42</td>\n",
              "      <td>D</td>\n",
              "      <td>3</td>\n",
              "      <td>20</td>\n",
              "      <td>35.8</td>\n",
              "      <td>1.500.000</td>\n",
              "    </tr>\n",
              "    <tr>\n",
              "      <th>42</th>\n",
              "      <td>43</td>\n",
              "      <td>F</td>\n",
              "      <td>12</td>\n",
              "      <td>23</td>\n",
              "      <td>28.6</td>\n",
              "      <td>600.000</td>\n",
              "    </tr>\n",
              "    <tr>\n",
              "      <th>43</th>\n",
              "      <td>44</td>\n",
              "      <td>A</td>\n",
              "      <td>19</td>\n",
              "      <td>15</td>\n",
              "      <td>52.6</td>\n",
              "      <td>1.200.000</td>\n",
              "    </tr>\n",
              "    <tr>\n",
              "      <th>44</th>\n",
              "      <td>45</td>\n",
              "      <td>A</td>\n",
              "      <td>17</td>\n",
              "      <td>35</td>\n",
              "      <td>45.4</td>\n",
              "      <td>1.000.000</td>\n",
              "    </tr>\n",
              "    <tr>\n",
              "      <th>45</th>\n",
              "      <td>46</td>\n",
              "      <td>B</td>\n",
              "      <td>9</td>\n",
              "      <td>28</td>\n",
              "      <td>35.8</td>\n",
              "      <td>1.200.000</td>\n",
              "    </tr>\n",
              "    <tr>\n",
              "      <th>46</th>\n",
              "      <td>47</td>\n",
              "      <td>D</td>\n",
              "      <td>11</td>\n",
              "      <td>30</td>\n",
              "      <td>40.8</td>\n",
              "      <td>800.000</td>\n",
              "    </tr>\n",
              "    <tr>\n",
              "      <th>47</th>\n",
              "      <td>48</td>\n",
              "      <td>D</td>\n",
              "      <td>5</td>\n",
              "      <td>18</td>\n",
              "      <td>36.8</td>\n",
              "      <td>1.500.000</td>\n",
              "    </tr>\n",
              "    <tr>\n",
              "      <th>48</th>\n",
              "      <td>49</td>\n",
              "      <td>F</td>\n",
              "      <td>4</td>\n",
              "      <td>29</td>\n",
              "      <td>24.9</td>\n",
              "      <td>1.000.000</td>\n",
              "    </tr>\n",
              "    <tr>\n",
              "      <th>49</th>\n",
              "      <td>50</td>\n",
              "      <td>E</td>\n",
              "      <td>10</td>\n",
              "      <td>47</td>\n",
              "      <td>33.8</td>\n",
              "      <td>600.000</td>\n",
              "    </tr>\n",
              "  </tbody>\n",
              "</table>\n",
              "</div>\n",
              "      <button class=\"colab-df-convert\" onclick=\"convertToInteractive('df-03084588-235c-4a42-851a-ff1d4c7a2e24')\"\n",
              "              title=\"Convert this dataframe to an interactive table.\"\n",
              "              style=\"display:none;\">\n",
              "        \n",
              "  <svg xmlns=\"http://www.w3.org/2000/svg\" height=\"24px\"viewBox=\"0 0 24 24\"\n",
              "       width=\"24px\">\n",
              "    <path d=\"M0 0h24v24H0V0z\" fill=\"none\"/>\n",
              "    <path d=\"M18.56 5.44l.94 2.06.94-2.06 2.06-.94-2.06-.94-.94-2.06-.94 2.06-2.06.94zm-11 1L8.5 8.5l.94-2.06 2.06-.94-2.06-.94L8.5 2.5l-.94 2.06-2.06.94zm10 10l.94 2.06.94-2.06 2.06-.94-2.06-.94-.94-2.06-.94 2.06-2.06.94z\"/><path d=\"M17.41 7.96l-1.37-1.37c-.4-.4-.92-.59-1.43-.59-.52 0-1.04.2-1.43.59L10.3 9.45l-7.72 7.72c-.78.78-.78 2.05 0 2.83L4 21.41c.39.39.9.59 1.41.59.51 0 1.02-.2 1.41-.59l7.78-7.78 2.81-2.81c.8-.78.8-2.07 0-2.86zM5.41 20L4 18.59l7.72-7.72 1.47 1.35L5.41 20z\"/>\n",
              "  </svg>\n",
              "      </button>\n",
              "      \n",
              "  <style>\n",
              "    .colab-df-container {\n",
              "      display:flex;\n",
              "      flex-wrap:wrap;\n",
              "      gap: 12px;\n",
              "    }\n",
              "\n",
              "    .colab-df-convert {\n",
              "      background-color: #E8F0FE;\n",
              "      border: none;\n",
              "      border-radius: 50%;\n",
              "      cursor: pointer;\n",
              "      display: none;\n",
              "      fill: #1967D2;\n",
              "      height: 32px;\n",
              "      padding: 0 0 0 0;\n",
              "      width: 32px;\n",
              "    }\n",
              "\n",
              "    .colab-df-convert:hover {\n",
              "      background-color: #E2EBFA;\n",
              "      box-shadow: 0px 1px 2px rgba(60, 64, 67, 0.3), 0px 1px 3px 1px rgba(60, 64, 67, 0.15);\n",
              "      fill: #174EA6;\n",
              "    }\n",
              "\n",
              "    [theme=dark] .colab-df-convert {\n",
              "      background-color: #3B4455;\n",
              "      fill: #D2E3FC;\n",
              "    }\n",
              "\n",
              "    [theme=dark] .colab-df-convert:hover {\n",
              "      background-color: #434B5C;\n",
              "      box-shadow: 0px 1px 3px 1px rgba(0, 0, 0, 0.15);\n",
              "      filter: drop-shadow(0px 1px 2px rgba(0, 0, 0, 0.3));\n",
              "      fill: #FFFFFF;\n",
              "    }\n",
              "  </style>\n",
              "\n",
              "      <script>\n",
              "        const buttonEl =\n",
              "          document.querySelector('#df-03084588-235c-4a42-851a-ff1d4c7a2e24 button.colab-df-convert');\n",
              "        buttonEl.style.display =\n",
              "          google.colab.kernel.accessAllowed ? 'block' : 'none';\n",
              "\n",
              "        async function convertToInteractive(key) {\n",
              "          const element = document.querySelector('#df-03084588-235c-4a42-851a-ff1d4c7a2e24');\n",
              "          const dataTable =\n",
              "            await google.colab.kernel.invokeFunction('convertToInteractive',\n",
              "                                                     [key], {});\n",
              "          if (!dataTable) return;\n",
              "\n",
              "          const docLinkHtml = 'Like what you see? Visit the ' +\n",
              "            '<a target=\"_blank\" href=https://colab.research.google.com/notebooks/data_table.ipynb>data table notebook</a>'\n",
              "            + ' to learn more about interactive tables.';\n",
              "          element.innerHTML = '';\n",
              "          dataTable['output_type'] = 'display_data';\n",
              "          await google.colab.output.renderOutput(dataTable, element);\n",
              "          const docLink = document.createElement('div');\n",
              "          docLink.innerHTML = docLinkHtml;\n",
              "          element.appendChild(docLink);\n",
              "        }\n",
              "      </script>\n",
              "    </div>\n",
              "  </div>\n",
              "  "
            ]
          },
          "metadata": {},
          "execution_count": 32
        }
      ]
    },
    {
      "cell_type": "code",
      "source": [
        "import matplotlib.pyplot as plt\n",
        "\n",
        "print(\"==SOAL NO 1==\")\n",
        "a1 = 5\n",
        "a2 = 8\n",
        "a3 = 14\n",
        "a4 = 7\n",
        "a5 = 3\n",
        "a6 = 19\n",
        "a7 = 17\n",
        "hasil = a1 + a2 + a3 + a4 + a5 + a6 + a7\n",
        "print(\"Maka Jumlah RW A Adalah : \"+str(hasil))\n",
        "b1 = 4\n",
        "b2 = 4\n",
        "b3 = 14\n",
        "b4 = 7\n",
        "b5 = 9\n",
        "b6 = 18\n",
        "b7 = 15\n",
        "b8 = 9\n",
        "hasil2 = b1 + b2 + b3 + b4 + b5 + b6 + b7 + b8\n",
        "print(\"Maka Jumlah RW B Adalah : \"+str(hasil2))\n",
        "b1 = 9\n",
        "b2 = 4\n",
        "b3 = 4\n",
        "b4 = 15\n",
        "hasil3 = b1 + b2 + b3 + b4\n",
        "print(\"Maka Jumlah RW C Adalah : \"+str(hasil3))\n",
        "b1 = 12\n",
        "b2 = 18\n",
        "b3 = 10\n",
        "b4 = 6\n",
        "b5 = 16\n",
        "b6 = 20\n",
        "b7 = 5\n",
        "b8 = 3\n",
        "b9 = 11\n",
        "b10 = 5\n",
        "b11 = 2\n",
        "hasil4 = b1 + b2 + b3 + b4 + b5 + b6 + b7 + b8 + b9 +b10 + b11\n",
        "print(\"Maka Jumlah RW D Adalah : \"+str(hasil4))\n",
        "b1 = 11\n",
        "b2 = 5\n",
        "b3 = 8\n",
        "b4 = 11\n",
        "b5 = 16\n",
        "b6 = 12\n",
        "b7 = 4\n",
        "b8 = 10\n",
        "b9 = 12\n",
        "b10 = 6\n",
        "b11 = 10\n",
        "hasil5 = b1 + b2 + b3 + b4 + b5 + b6 + b7 + b8 + b9 +b10 + b11\n",
        "print(\"Maka Jumlah RW E Adalah : \"+str(hasil5))\n",
        "jml = hasil + hasil2 + hasil3 + hasil4 + hasil5\n",
        "print(\"Jumlah RW di seluruh daerah : \"+str(jml))\n",
        "\n",
        "print(\"\")\n",
        "b1 = 20\n",
        "b2 = 52\n",
        "b3 = 16\n",
        "b4 = 58\n",
        "b5 = 39\n",
        "b6 = 15\n",
        "b7 = 35\n",
        "hasil = b1 + b2 + b3 + b4 + b5 + b6 + b7\n",
        "print(\"Maka Jumlah KK A Adalah : \"+str(hasil))\n",
        "b1 = 18\n",
        "b2 = 50\n",
        "b3 = 43\n",
        "b4 = 35\n",
        "b5 = 21\n",
        "b6 = 34\n",
        "b7 = 46\n",
        "b8 = 28\n",
        "hasil2 = b1 + b2 + b3 + b4 + b5 + b6 + b7 + b8\n",
        "print(\"Maka Jumlah KK B Adalah : \"+str(hasil2))\n",
        "b1 = 30\n",
        "b2 = 48\n",
        "b3 = 24\n",
        "b4 = 42\n",
        "hasil3 = b1 + b2 + b3 + b4\n",
        "print(\"Maka Jumlah KK C Adalah : \"+str(hasil3))\n",
        "b1 = 42\n",
        "b2 = 28\n",
        "b3 = 25\n",
        "b4 = 45\n",
        "b5 = 29\n",
        "b6 = 24\n",
        "b7 = 26\n",
        "b8 = 59\n",
        "b9 = 20\n",
        "b10 = 30\n",
        "b11 = 18\n",
        "hasil4 = b1 + b2 + b3 + b4 + b5 + b6 + b7 + b8 + b9 +b10 + b11\n",
        "print(\"Maka Jumlah KK D Adalah : \"+str(hasil4))\n",
        "b1 = 36\n",
        "b2 = 27\n",
        "b3 = 26\n",
        "b4 = 18\n",
        "b5 = 29\n",
        "b6 = 41\n",
        "b7 = 17\n",
        "b8 = 28\n",
        "b9 = 55\n",
        "b10 = 40\n",
        "b11 = 47\n",
        "hasil5 = b1 + b2 + b3 + b4 + b5 + b6 + b7 + b8 + b9 +b10 + b11\n",
        "print(\"Maka Jumlah KK E Adalah : \"+str(hasil5))\n",
        "jml = hasil + hasil2 + hasil3 + hasil4 + hasil5\n",
        "print(\"Jumlah KK di seluruh daerah : \"+str(jml))\n",
        "\n",
        "print(\"\")\n",
        "fig = plt.figure()\n",
        "ax = fig.add_axes([0,0,1,1])\n",
        "eskul = ['RW A','RW B','RW C','RW D','RW E']\n",
        "jumlah = [73, 80, 32,108,105]\n",
        "plt.title(\"Garik Bar Seluruh RW \")\n",
        "ax.bar(eskul,jumlah )\n",
        "plt.show()\n",
        "#Pie chart\n",
        "print(\"\")\n",
        "fig = plt.figure()\n",
        "ax = fig.add_axes([0,0,1,1])\n",
        "ax.axis('equal')\n",
        "eskul = ['RW A','RW B','RW C','RW D','RW E']\n",
        "jumlah = [73, 80, 32,108,105]\n",
        "ax.pie(jumlah,labels=eskul,autopct=\"%1.2f%%\")\n",
        "plt.title(\"Garik Piechart Seluruh RW\")\n",
        "plt.show()\n",
        "\n",
        "print(\"\")\n",
        "fig = plt.figure()\n",
        "ax = fig.add_axes([0,0,1,1])\n",
        "eskul = ['KK A','KK B','KK C','KK D','KK E']\n",
        "jumlah = [235,275, 144,346,364]\n",
        "plt.title(\"Garik Bar Seluruh KK \")\n",
        "ax.bar(eskul,jumlah )\n",
        "plt.show()\n",
        "#Pie chart\n",
        "print(\"\")\n",
        "fig = plt.figure()\n",
        "ax = fig.add_axes([0,0,1,1])\n",
        "ax.axis('equal')\n",
        "eskul = ['KK A','KK B','KK C','KK D','KK E']\n",
        "jumlah = [235,275, 144,346,364]\n",
        "ax.pie(jumlah,labels=eskul,autopct=\"%1.2f%%\")\n",
        "plt.title(\"Garik Piechart Seluruh KK\")\n",
        "plt.show()"
      ],
      "metadata": {
        "colab": {
          "base_uri": "https://localhost:8080/",
          "height": 1000
        },
        "id": "cGo6nnwkqlWH",
        "outputId": "7adf3c25-c973-411d-e1a5-7d02420bdf65"
      },
      "execution_count": null,
      "outputs": [
        {
          "output_type": "stream",
          "name": "stdout",
          "text": [
            "==SOAL NO 1==\n",
            "Maka Jumlah RW A Adalah : 73\n",
            "Maka Jumlah RW B Adalah : 80\n",
            "Maka Jumlah RW C Adalah : 32\n",
            "Maka Jumlah RW D Adalah : 108\n",
            "Maka Jumlah RW E Adalah : 105\n",
            "Jumlah RW di seluruh daerah : 398\n",
            "\n",
            "Maka Jumlah KK A Adalah : 235\n",
            "Maka Jumlah KK B Adalah : 275\n",
            "Maka Jumlah KK C Adalah : 144\n",
            "Maka Jumlah KK D Adalah : 346\n",
            "Maka Jumlah KK E Adalah : 364\n",
            "Jumlah KK di seluruh daerah : 1364\n",
            "\n"
          ]
        },
        {
          "output_type": "display_data",
          "data": {
            "text/plain": [
              "<Figure size 432x288 with 1 Axes>"
            ],
            "image/png": "[encoded data removed]"
          },
          "metadata": {
            "needs_background": "light"
          }
        },
        {
          "output_type": "stream",
          "name": "stdout",
          "text": [
            "\n"
          ]
        },
        {
          "output_type": "display_data",
          "data": {
            "text/plain": [
              "<Figure size 432x288 with 1 Axes>"
            ],
            "image/png": "[encoded data removed]"
          },
          "metadata": {}
        },
        {
          "output_type": "stream",
          "name": "stdout",
          "text": [
            "\n"
          ]
        },
        {
          "output_type": "display_data",
          "data": {
            "text/plain": [
              "<Figure size 432x288 with 1 Axes>"
            ],
            "image/png": "[encoded data removed]"
          },
          "metadata": {
            "needs_background": "light"
          }
        },
        {
          "output_type": "stream",
          "name": "stdout",
          "text": [
            "\n"
          ]
        },
        {
          "output_type": "display_data",
          "data": {
            "text/plain": [
              "<Figure size 432x288 with 1 Axes>"
            ],
            "image/png": "[encoded data removed]"
          },
          "metadata": {}
        }
      ]
    },
    {
      "cell_type": "code",
      "source": [
        "print(\"==SOAL NO 2==\")\n",
        "hasil = 51.6 + 54.6 + 57.6 + 55.8 + 56.8 + 59.4 + 51.5 + 54.9 + 50.8 + 52.6\n",
        "print(\"Maka Jumlah usia >50 : \"+str(hasil))\n",
        "hasil2 = 42.9 + 41.5 + 45.7 + 41.8 + 42.9 + 40.5 + 41.8 + 46.8 + 48.9 + 42.9 + 45.4 + 40.8\n",
        "print(\"Maka Jumlah usia >40 : \"+str(hasil2))\n",
        "hasil3 = 36.5 + 32.6 + 36.4 + 33.5 + 34.9 + 32.5 + 38.5 + 35.7 + 37.4 + 35.7 + 31.9 + 35.8 + 35.8 + 36.8 + 33.8\n",
        "print(\"Maka Jumlah usia >30 : \"+str(hasil3))\n",
        "hasil4 = 28.9 + 27.5 + 29.5 + 27.9 + 25.7 + 24.9 + 29.8 + 25.6 + 29.6 + 24.9 + 25.8 + 28.6 + 24.9\n",
        "print(\"Maka Jumlah usia >20 : \"+str(hasil4))\n",
        "\n",
        "print(\"\")\n",
        "fig = plt.figure()\n",
        "ax = fig.add_axes([0,0,1,1])\n",
        "eskul = ['Usia >50','Usia >40','Usia >30','Usia >20']\n",
        "jumlah = [545.6,521.9,527.8,353.6]\n",
        "plt.title(\"Garik Bar Usia \")\n",
        "ax.bar(eskul,jumlah )\n",
        "plt.show()\n",
        "#Pie chart\n",
        "print(\"\")\n",
        "fig = plt.figure()\n",
        "ax = fig.add_axes([0,0,1,1])\n",
        "ax.axis('equal')\n",
        "eskul = ['Usia >50','Usia >40','Usia >30','Usia >20']\n",
        "jumlah = [545.6,521.9,527.8,353.6]\n",
        "ax.pie(jumlah,labels=eskul,autopct=\"%1.2f%%\")\n",
        "plt.title(\"Garik Piechart Seluruh KK\")\n",
        "plt.show()"
      ],
      "metadata": {
        "colab": {
          "base_uri": "https://localhost:8080/",
          "height": 792
        },
        "id": "Lerj4Z58suOV",
        "outputId": "4c2c0b12-9663-46f7-812e-dff23dbe97b2"
      },
      "execution_count": null,
      "outputs": [
        {
          "output_type": "stream",
          "name": "stdout",
          "text": [
            "==SOAL NO 2==\n",
            "Maka Jumlah usia >50 : 545.6\n",
            "Maka Jumlah usia >40 : 521.9\n",
            "Maka Jumlah usia >30 : 527.8\n",
            "Maka Jumlah usia >20 : 353.6\n",
            "\n"
          ]
        },
        {
          "output_type": "display_data",
          "data": {
            "text/plain": [
              "<Figure size 432x288 with 1 Axes>"
            ],
            "image/png": "[encoded data removed]"
          },
          "metadata": {
            "needs_background": "light"
          }
        },
        {
          "output_type": "stream",
          "name": "stdout",
          "text": [
            "\n"
          ]
        },
        {
          "output_type": "display_data",
          "data": {
            "text/plain": [
              "<Figure size 432x288 with 1 Axes>"
            ],
            "image/png": "[encoded data removed]"
          },
          "metadata": {}
        }
      ]
    },
    {
      "cell_type": "code",
      "source": [
        "print(\"==SOAL NO 3==\")\n",
        "hasil = 5 + 4 + 9 + 4 + 10 + 8 + 10 + 8 + 5 + 4 + 6 + 7 + 8 + 4 + 7 + 9 + 4 + 2 + 3 + 9 + 5 + 6 + 3 + 9 + 5 + 4 + 10 + 10\n",
        "print(\"Maka Jumlah RW <10 : \"+str(hasil))\n",
        "hasil2 = 12 + 15 + 18 + 11 + 14 + 13 + 11 + 14 + 16 + 16 + 14 + 12 + 18 + 20 + 15 + 13 + 15 + 12 + 12 + 19 + 17 + 11\n",
        "print(\"Maka Jumlah RW >10 : \"+str(hasil2))\n",
        "\n",
        "hasil = 600000 + 1200000 + 800000 + 1500000 + 1200000 + 1500000 + 1000000 + 800000 + 1000000 + 800000 + 1500000 + 800000 + 600000 + 600000 + 800000 + 600000 + 1200000 + 1000000 + 1200000 + 1000000 + 1200000 + 1200000 + 800000 + 1500000 + 1200000 + 1500000 + 1000000 + 600000\n",
        "print(\"Jumlah Nominal Bantuan <10 Rw : \"+str(hasil))\n",
        "hasil2 = 1200000 + 1000000 + 600000 + 800000 + 800000 + 600000 + 600000 + 800000 + 1500000 + 1500000 + 1000000 + 1200000 + 1500000 + 1200000 + 1000000 + 600000 + 800000 + 800000 + 600000 + 1200000 + 1000000 + 800000\n",
        "print(\"Jumlah Nominal Bantuan >10 Rw : \"+str(hasil2))\n",
        "print(\"\")\n",
        "pajak = 0.02 * (5 * 600000)\n",
        "pajak2 = 0.03 * (6 * 800000)\n",
        "pajak3 = 0.04 * (5 * 1000000)\n",
        "pajak4 = 0.05 * (7 * 1200000)\n",
        "pajak5 = 0.07 * (5 * 1500000)\n",
        "hasilp = pajak + pajak2 + pajak3 + pajak4 + pajak5\n",
        "hasilj = hasil - hasilp\n",
        "print(\"Maka Jumlah Bantuan + Pajak < 10 Rw : \"+str(hasilj))\n",
        "pajak = 0.02 * (5 * 600000)\n",
        "pajak2 = 0.03 * (6 * 800000)\n",
        "pajak3 = 0.04 * (4 * 1000000)\n",
        "pajak4 = 0.05 * (4 * 1200000)\n",
        "pajak5 = 0.07 * (3 * 1500000)\n",
        "hasilp = pajak + pajak2 + pajak3 + pajak4 + pajak5\n",
        "hasilj1 = hasil2 - hasilp\n",
        "print(\"Maka Jumlah Bantuan + Pajak > 10 Rw : \"+str(hasilj1))\n"
      ],
      "metadata": {
        "colab": {
          "base_uri": "https://localhost:8080/"
        },
        "id": "YbxMMPVR74AB",
        "outputId": "8ecd0128-0d29-4760-9f63-f12d9c9ec835"
      },
      "execution_count": null,
      "outputs": [
        {
          "output_type": "stream",
          "name": "stdout",
          "text": [
            "==SOAL NO 3==\n",
            "Maka Jumlah RW <10 : 178\n",
            "Maka Jumlah RW >10 : 318\n",
            "Jumlah Nominal Bantuan <10 Rw : 28700000\n",
            "Jumlah Nominal Bantuan >10 Rw : 21100000\n",
            "\n",
            "Maka Jumlah Bantuan + Pajak < 10 Rw : 27351000.0\n",
            "Maka Jumlah Bantuan + Pajak > 10 Rw : 20181000.0\n"
          ]
        }
      ]
    },
    {
      "cell_type": "code",
      "source": [
        "print(\"==SOAL NO 4==\")\n",
        "hasil = 800000 + 1500000 + 1000000 + 600000 + 1200000 + 600000 + 1500000 + 1200000 + 1200000 + 1200000\n",
        "print(\"Maka Jumlah Nominal Bantuan Usia > 50 : \"+str(hasil))\n",
        "hasil = 1200000 + 1200000 + 1200000 + 600000 + 800000 + 800000 + 1000000 + 1200000 + 1000000 + 1200000 + 1000000 + 800000\n",
        "print(\"Maka Jumlah Nominal Bantuan Usia > 40 : \"+str(hasil))\n",
        "hasil = 600000 + 1500000 + 800000 + 1000000 + 1500000 + 600000 + 1500000 + 800000 + 600000 + 800000 + 800000 + 1500000 + 1200000 + 1500000 + 600000\n",
        "print(\"Maka Jumlah Nominal Bantuan Usia > 30 : \"+str(hasil))\n",
        "hasil = 1000000 + 600000 + 800000 + 800000 + 800000 + 600000 + 1500000 + 1000000 + 1200000 + 1000000 + 800000 + 600000 + 1000000\n",
        "print(\"Maka Jumlah Nominal Bantuan Usia > 30 : \"+str(hasil))\n",
        "print(\"\")\n",
        "fig = plt.figure()\n",
        "ax = fig.add_axes([0,0,1,1])\n",
        "eskul = ['Usia > 50','Usia > 40','Usia > 30','Usia > 20']\n",
        "jumlah = [10800000,12000000,15300000,11700000]\n",
        "plt.title(\"Garik Bar Nominal bantuan Usia \")\n",
        "ax.bar(eskul,jumlah )\n",
        "plt.show()\n",
        "#Pie chart\n",
        "print(\"\")\n",
        "fig = plt.figure()\n",
        "ax = fig.add_axes([0,0,1,1])\n",
        "ax.axis('equal')\n",
        "eskul = ['Usia >50','Usia >40','Usia >30','Usia >20']\n",
        "jumlah = [10800000,12000000,15300000,11700000]\n",
        "ax.pie(jumlah,labels=eskul,autopct=\"%1.2f%%\")\n",
        "plt.title(\"Garik Bar Nominal bantuan Usia\")\n",
        "plt.show()"
      ],
      "metadata": {
        "colab": {
          "base_uri": "https://localhost:8080/",
          "height": 792
        },
        "id": "5nGiL6zRHkxd",
        "outputId": "d6760e75-ad01-46b9-cd47-35603007c948"
      },
      "execution_count": null,
      "outputs": [
        {
          "output_type": "stream",
          "name": "stdout",
          "text": [
            "==SOAL NO 4==\n",
            "Maka Jumlah Nominal Bantuan Usia > 50 : 10800000\n",
            "Maka Jumlah Nominal Bantuan Usia > 40 : 12000000\n",
            "Maka Jumlah Nominal Bantuan Usia > 30 : 15300000\n",
            "Maka Jumlah Nominal Bantuan Usia > 30 : 11700000\n",
            "\n"
          ]
        },
        {
          "output_type": "display_data",
          "data": {
            "text/plain": [
              "<Figure size 432x288 with 1 Axes>"
            ],
            "image/png": "[encoded data removed]"
          },
          "metadata": {
            "needs_background": "light"
          }
        },
        {
          "output_type": "stream",
          "name": "stdout",
          "text": [
            "\n"
          ]
        },
        {
          "output_type": "display_data",
          "data": {
            "text/plain": [
              "<Figure size 432x288 with 1 Axes>"
            ],
            "image/png": "[encoded data removed]"
          },
          "metadata": {}
        }
      ]
    },
    {
      "cell_type": "code",
      "source": [
        "print(\"==SOAL NO 5==\")\n",
        "hasil = 600000 + 1200000 + 800000 + 1500000 + 1200000 + 1500000 + 1000000 + 800000 + 1000000 + 800000 + 1500000 + 800000 + 600000 + 600000 + 800000 + 600000 + 1200000 + 1000000 + 1200000 + 1000000 + 1200000 + 1200000 + 800000 + 1500000 + 1200000 + 1500000 + 1000000 + 600000 + 1200000 + 1000000 + 600000 + 800000 + 800000 + 600000 + 600000 + 800000 + 1500000 + 1500000 + 1000000 + 1200000 + 1500000 + 1200000 + 1000000 + 600000 + 800000 + 800000 + 600000 + 1200000 + 1000000 + 800000\n",
        "print(\"Maka Jumlah Seluruh Nominal Bantuan : \"+str(hasil))\n",
        "pajak = 0.02 * (10 * 600000)\n",
        "pajak2 = 0.03 * (12 * 800000)\n",
        "pajak3 = 0.04 * (9 * 1000000)\n",
        "pajak4 = 0.05 * (11 * 1200000)\n",
        "pajak5 = 0.07 * (8 * 1500000)\n",
        "hasilp = pajak + pajak2 + pajak3 + pajak4 + pajak5\n",
        "hasilj = hasil - hasilp\n",
        "print(\"Jumlah Seluruh Nominal Bantuan + Pajak : \"+str(hasilj))"
      ],
      "metadata": {
        "colab": {
          "base_uri": "https://localhost:8080/"
        },
        "id": "v5KOtngncHzt",
        "outputId": "d383551f-b6ac-48cd-badf-fb0abd106c00"
      },
      "execution_count": null,
      "outputs": [
        {
          "output_type": "stream",
          "name": "stdout",
          "text": [
            "==SOAL NO 5==\n",
            "Maka Jumlah Seluruh Nominal Bantuan : 49800000\n",
            "Jumlah Seluruh Nominal Bantuan + Pajak : 47532000.0\n"
          ]
        }
      ]
    },
    {
      "cell_type": "code",
      "source": [
        "\n",
        "import pandas as pd\n",
        "from google.colab import drive #memanggil package  \n",
        "drive.mount('/content/drive')"
      ],
      "metadata": {
        "colab": {
          "base_uri": "https://localhost:8080/"
        },
        "id": "R1rFQIqAhrbt",
        "outputId": "c7c246f1-f55d-4020-e6bd-3cb20f099772"
      },
      "execution_count": 98,
      "outputs": [
        {
          "output_type": "stream",
          "name": "stdout",
          "text": [
            "Drive already mounted at /content/drive; to attempt to forcibly remount, call drive.mount(\"/content/drive\", force_remount=True).\n"
          ]
        }
      ]
    },
    {
      "cell_type": "code",
      "source": [
        "path = '/content/drive/MyDrive/CSV/soal6 - Sheet1.csv'\n",
        "df = pd.read_csv(path)\n",
        "df.describe()"
      ],
      "metadata": {
        "colab": {
          "base_uri": "https://localhost:8080/",
          "height": 300
        },
        "id": "UxHcGsy3qz6A",
        "outputId": "83cf57c5-2970-4bd7-d623-d8936d451881"
      },
      "execution_count": 99,
      "outputs": [
        {
          "output_type": "execute_result",
          "data": {
            "text/plain": [
              "              No  Jumlah RW  Jumlah Kepala Keluarga  Rata-rata Usia Keluarga\n",
              "count  15.000000  15.000000               15.000000                15.000000\n",
              "mean    8.000000   9.533333               30.800000                37.586667\n",
              "std     4.472136   4.223517               12.382015                 9.693066\n",
              "min     1.000000   4.000000               13.000000                24.900000\n",
              "25%     4.500000   6.500000               24.500000                31.150000\n",
              "50%     8.000000   8.000000               29.000000                35.700000\n",
              "75%    11.500000  13.500000               37.000000                41.800000\n",
              "max    15.000000  16.000000               58.000000                57.600000"
            ],
            "text/html": [
              "\n",
              "  <div id=\"df-8e4fc10c-634c-4fd6-990e-c712bc0b3a3d\">\n",
              "    <div class=\"colab-df-container\">\n",
              "      <div>\n",
              "<style scoped>\n",
              "    .dataframe tbody tr th:only-of-type {\n",
              "        vertical-align: middle;\n",
              "    }\n",
              "\n",
              "    .dataframe tbody tr th {\n",
              "        vertical-align: top;\n",
              "    }\n",
              "\n",
              "    .dataframe thead th {\n",
              "        text-align: right;\n",
              "    }\n",
              "</style>\n",
              "<table border=\"1\" class=\"dataframe\">\n",
              "  <thead>\n",
              "    <tr style=\"text-align: right;\">\n",
              "      <th></th>\n",
              "      <th>No</th>\n",
              "      <th>Jumlah RW</th>\n",
              "      <th>Jumlah Kepala Keluarga</th>\n",
              "      <th>Rata-rata Usia Keluarga</th>\n",
              "    </tr>\n",
              "  </thead>\n",
              "  <tbody>\n",
              "    <tr>\n",
              "      <th>count</th>\n",
              "      <td>15.000000</td>\n",
              "      <td>15.000000</td>\n",
              "      <td>15.000000</td>\n",
              "      <td>15.000000</td>\n",
              "    </tr>\n",
              "    <tr>\n",
              "      <th>mean</th>\n",
              "      <td>8.000000</td>\n",
              "      <td>9.533333</td>\n",
              "      <td>30.800000</td>\n",
              "      <td>37.586667</td>\n",
              "    </tr>\n",
              "    <tr>\n",
              "      <th>std</th>\n",
              "      <td>4.472136</td>\n",
              "      <td>4.223517</td>\n",
              "      <td>12.382015</td>\n",
              "      <td>9.693066</td>\n",
              "    </tr>\n",
              "    <tr>\n",
              "      <th>min</th>\n",
              "      <td>1.000000</td>\n",
              "      <td>4.000000</td>\n",
              "      <td>13.000000</td>\n",
              "      <td>24.900000</td>\n",
              "    </tr>\n",
              "    <tr>\n",
              "      <th>25%</th>\n",
              "      <td>4.500000</td>\n",
              "      <td>6.500000</td>\n",
              "      <td>24.500000</td>\n",
              "      <td>31.150000</td>\n",
              "    </tr>\n",
              "    <tr>\n",
              "      <th>50%</th>\n",
              "      <td>8.000000</td>\n",
              "      <td>8.000000</td>\n",
              "      <td>29.000000</td>\n",
              "      <td>35.700000</td>\n",
              "    </tr>\n",
              "    <tr>\n",
              "      <th>75%</th>\n",
              "      <td>11.500000</td>\n",
              "      <td>13.500000</td>\n",
              "      <td>37.000000</td>\n",
              "      <td>41.800000</td>\n",
              "    </tr>\n",
              "    <tr>\n",
              "      <th>max</th>\n",
              "      <td>15.000000</td>\n",
              "      <td>16.000000</td>\n",
              "      <td>58.000000</td>\n",
              "      <td>57.600000</td>\n",
              "    </tr>\n",
              "  </tbody>\n",
              "</table>\n",
              "</div>\n",
              "      <button class=\"colab-df-convert\" onclick=\"convertToInteractive('df-8e4fc10c-634c-4fd6-990e-c712bc0b3a3d')\"\n",
              "              title=\"Convert this dataframe to an interactive table.\"\n",
              "              style=\"display:none;\">\n",
              "        \n",
              "  <svg xmlns=\"http://www.w3.org/2000/svg\" height=\"24px\"viewBox=\"0 0 24 24\"\n",
              "       width=\"24px\">\n",
              "    <path d=\"M0 0h24v24H0V0z\" fill=\"none\"/>\n",
              "    <path d=\"M18.56 5.44l.94 2.06.94-2.06 2.06-.94-2.06-.94-.94-2.06-.94 2.06-2.06.94zm-11 1L8.5 8.5l.94-2.06 2.06-.94-2.06-.94L8.5 2.5l-.94 2.06-2.06.94zm10 10l.94 2.06.94-2.06 2.06-.94-2.06-.94-.94-2.06-.94 2.06-2.06.94z\"/><path d=\"M17.41 7.96l-1.37-1.37c-.4-.4-.92-.59-1.43-.59-.52 0-1.04.2-1.43.59L10.3 9.45l-7.72 7.72c-.78.78-.78 2.05 0 2.83L4 21.41c.39.39.9.59 1.41.59.51 0 1.02-.2 1.41-.59l7.78-7.78 2.81-2.81c.8-.78.8-2.07 0-2.86zM5.41 20L4 18.59l7.72-7.72 1.47 1.35L5.41 20z\"/>\n",
              "  </svg>\n",
              "      </button>\n",
              "      \n",
              "  <style>\n",
              "    .colab-df-container {\n",
              "      display:flex;\n",
              "      flex-wrap:wrap;\n",
              "      gap: 12px;\n",
              "    }\n",
              "\n",
              "    .colab-df-convert {\n",
              "      background-color: #E8F0FE;\n",
              "      border: none;\n",
              "      border-radius: 50%;\n",
              "      cursor: pointer;\n",
              "      display: none;\n",
              "      fill: #1967D2;\n",
              "      height: 32px;\n",
              "      padding: 0 0 0 0;\n",
              "      width: 32px;\n",
              "    }\n",
              "\n",
              "    .colab-df-convert:hover {\n",
              "      background-color: #E2EBFA;\n",
              "      box-shadow: 0px 1px 2px rgba(60, 64, 67, 0.3), 0px 1px 3px 1px rgba(60, 64, 67, 0.15);\n",
              "      fill: #174EA6;\n",
              "    }\n",
              "\n",
              "    [theme=dark] .colab-df-convert {\n",
              "      background-color: #3B4455;\n",
              "      fill: #D2E3FC;\n",
              "    }\n",
              "\n",
              "    [theme=dark] .colab-df-convert:hover {\n",
              "      background-color: #434B5C;\n",
              "      box-shadow: 0px 1px 3px 1px rgba(0, 0, 0, 0.15);\n",
              "      filter: drop-shadow(0px 1px 2px rgba(0, 0, 0, 0.3));\n",
              "      fill: #FFFFFF;\n",
              "    }\n",
              "  </style>\n",
              "\n",
              "      <script>\n",
              "        const buttonEl =\n",
              "          document.querySelector('#df-8e4fc10c-634c-4fd6-990e-c712bc0b3a3d button.colab-df-convert');\n",
              "        buttonEl.style.display =\n",
              "          google.colab.kernel.accessAllowed ? 'block' : 'none';\n",
              "\n",
              "        async function convertToInteractive(key) {\n",
              "          const element = document.querySelector('#df-8e4fc10c-634c-4fd6-990e-c712bc0b3a3d');\n",
              "          const dataTable =\n",
              "            await google.colab.kernel.invokeFunction('convertToInteractive',\n",
              "                                                     [key], {});\n",
              "          if (!dataTable) return;\n",
              "\n",
              "          const docLinkHtml = 'Like what you see? Visit the ' +\n",
              "            '<a target=\"_blank\" href=https://colab.research.google.com/notebooks/data_table.ipynb>data table notebook</a>'\n",
              "            + ' to learn more about interactive tables.';\n",
              "          element.innerHTML = '';\n",
              "          dataTable['output_type'] = 'display_data';\n",
              "          await google.colab.output.renderOutput(dataTable, element);\n",
              "          const docLink = document.createElement('div');\n",
              "          docLink.innerHTML = docLinkHtml;\n",
              "          element.appendChild(docLink);\n",
              "        }\n",
              "      </script>\n",
              "    </div>\n",
              "  </div>\n",
              "  "
            ]
          },
          "metadata": {},
          "execution_count": 99
        }
      ]
    },
    {
      "cell_type": "code",
      "source": [
        "print(\"Jumlah RW A: \")\n",
        "df[df['Daerah'] == 'A']['Jumlah RW'].sum()\n"
      ],
      "metadata": {
        "colab": {
          "base_uri": "https://localhost:8080/"
        },
        "id": "eSsSQR5ErwNO",
        "outputId": "5f0de6d0-11bb-4a68-995c-67abc8f68b66"
      },
      "execution_count": 102,
      "outputs": [
        {
          "output_type": "stream",
          "name": "stdout",
          "text": [
            "Jumlah RW A: \n"
          ]
        },
        {
          "output_type": "execute_result",
          "data": {
            "text/plain": [
              "21"
            ]
          },
          "metadata": {},
          "execution_count": 102
        }
      ]
    },
    {
      "cell_type": "code",
      "source": [
        "print(\"Jumlah RW B: \")\n",
        "df[df['Daerah'] == 'B']['Jumlah RW'].sum()"
      ],
      "metadata": {
        "colab": {
          "base_uri": "https://localhost:8080/"
        },
        "id": "T7r-nYOrtB1G",
        "outputId": "3f4465d7-f90e-45a9-b8e2-cdd022bf79ca"
      },
      "execution_count": 104,
      "outputs": [
        {
          "output_type": "stream",
          "name": "stdout",
          "text": [
            "Jumlah RW B: \n"
          ]
        },
        {
          "output_type": "execute_result",
          "data": {
            "text/plain": [
              "7"
            ]
          },
          "metadata": {},
          "execution_count": 104
        }
      ]
    },
    {
      "cell_type": "code",
      "source": [
        "print(\"Jumlah RW C: \")\n",
        "df[df['Daerah'] == 'C']['Jumlah RW'].sum()"
      ],
      "metadata": {
        "colab": {
          "base_uri": "https://localhost:8080/"
        },
        "id": "6Zi-15lEtIk3",
        "outputId": "91f8d14d-393e-4da7-9562-407540dfcc7b"
      },
      "execution_count": 107,
      "outputs": [
        {
          "output_type": "stream",
          "name": "stdout",
          "text": [
            "Jumlah RW C: \n"
          ]
        },
        {
          "output_type": "execute_result",
          "data": {
            "text/plain": [
              "8"
            ]
          },
          "metadata": {},
          "execution_count": 107
        }
      ]
    },
    {
      "cell_type": "code",
      "source": [
        "print(\"Jumlah RW D: \")\n",
        "df[df['Daerah'] == 'D']['Jumlah RW'].sum()"
      ],
      "metadata": {
        "colab": {
          "base_uri": "https://localhost:8080/"
        },
        "id": "wUwZjhyqtiXO",
        "outputId": "4731f562-6826-45ec-ce7e-f72323d8b59f"
      },
      "execution_count": 110,
      "outputs": [
        {
          "output_type": "stream",
          "name": "stdout",
          "text": [
            "Jumlah RW D: \n"
          ]
        },
        {
          "output_type": "execute_result",
          "data": {
            "text/plain": [
              "32"
            ]
          },
          "metadata": {},
          "execution_count": 110
        }
      ]
    },
    {
      "cell_type": "code",
      "source": [
        "print(\"Jumlah RW E: \")\n",
        "df[df['Daerah'] == 'E']['Jumlah RW'].sum()"
      ],
      "metadata": {
        "colab": {
          "base_uri": "https://localhost:8080/"
        },
        "id": "CWkHGAc8UWOR",
        "outputId": "d0a01601-7746-4541-9fa1-97366f6519b2"
      },
      "execution_count": 112,
      "outputs": [
        {
          "output_type": "stream",
          "name": "stdout",
          "text": [
            "Jumlah RW E: \n"
          ]
        },
        {
          "output_type": "execute_result",
          "data": {
            "text/plain": [
              "40"
            ]
          },
          "metadata": {},
          "execution_count": 112
        }
      ]
    },
    {
      "cell_type": "code",
      "source": [
        "print(\"Jumlah RW F: \")\n",
        "df[df['Daerah'] == 'F']['Jumlah RW'].sum()"
      ],
      "metadata": {
        "colab": {
          "base_uri": "https://localhost:8080/"
        },
        "id": "or8H9KGvV04x",
        "outputId": "e99db4a8-b08d-421e-ccc7-8e7b07aca799"
      },
      "execution_count": 114,
      "outputs": [
        {
          "output_type": "stream",
          "name": "stdout",
          "text": [
            "Jumlah RW F: \n"
          ]
        },
        {
          "output_type": "execute_result",
          "data": {
            "text/plain": [
              "35"
            ]
          },
          "metadata": {},
          "execution_count": 114
        }
      ]
    },
    {
      "cell_type": "code",
      "source": [
        "print(\"\")\n",
        "fig = plt.figure()\n",
        "ax = fig.add_axes([0,0,1,1])\n",
        "eskul = ['Rw A','Rw B','Rw C','RW D','Rw E','Rw F']\n",
        "jumlah = [21,7,8,32,40,40]\n",
        "plt.title(\"Garik Bar RW \")\n",
        "ax.bar(eskul,jumlah )\n",
        "plt.show()\n",
        "\n",
        "#Pie chart\n",
        "print(\"\")\n",
        "fig = plt.figure()\n",
        "ax = fig.add_axes([0,0,1,1])\n",
        "ax.axis('equal')\n",
        "eskul = ['Rw A','Rw B','Rw C','RW D','Rw E','Rw F']\n",
        "jumlah = [21,7,8,32,40,40]\n",
        "ax.pie(jumlah,labels=eskul,autopct=\"%1.2f%%\")\n",
        "plt.title(\"Garik Bar RW\")\n",
        "plt.show()"
      ],
      "metadata": {
        "colab": {
          "base_uri": "https://localhost:8080/",
          "height": 705
        },
        "id": "z2xscqbIW8cJ",
        "outputId": "f65816b9-c354-47c1-de7e-b57ea5203e2c"
      },
      "execution_count": 131,
      "outputs": [
        {
          "output_type": "stream",
          "name": "stdout",
          "text": [
            "\n"
          ]
        },
        {
          "output_type": "display_data",
          "data": {
            "text/plain": [
              "<Figure size 432x288 with 1 Axes>"
            ],
            "image/png": "[encoded data removed]"
          },
          "metadata": {
            "needs_background": "light"
          }
        },
        {
          "output_type": "stream",
          "name": "stdout",
          "text": [
            "\n"
          ]
        },
        {
          "output_type": "display_data",
          "data": {
            "text/plain": [
              "<Figure size 432x288 with 1 Axes>"
            ],
            "image/png": "[encoded data removed]"
          },
          "metadata": {}
        }
      ]
    },
    {
      "cell_type": "code",
      "source": [
        "print(\"Jumlah KK A: \")\n",
        "df[df['Daerah'] == 'A']['Jumlah Kepala Keluarga'].sum()"
      ],
      "metadata": {
        "colab": {
          "base_uri": "https://localhost:8080/"
        },
        "id": "GGEPSp0Ob2PS",
        "outputId": "868fdf04-ec2f-4365-9416-9c440fe9d182"
      },
      "execution_count": 119,
      "outputs": [
        {
          "output_type": "stream",
          "name": "stdout",
          "text": [
            "Jumlah KK A: \n"
          ]
        },
        {
          "output_type": "execute_result",
          "data": {
            "text/plain": [
              "74"
            ]
          },
          "metadata": {},
          "execution_count": 119
        }
      ]
    },
    {
      "cell_type": "code",
      "source": [
        "print(\"Jumlah KK B: \")\n",
        "df[df['Daerah'] == 'B']['Jumlah Kepala Keluarga'].sum()"
      ],
      "metadata": {
        "colab": {
          "base_uri": "https://localhost:8080/"
        },
        "id": "02nn_mezcIOq",
        "outputId": "6ddc3656-56be-4fbe-cb74-1a522eb31b8c"
      },
      "execution_count": 122,
      "outputs": [
        {
          "output_type": "stream",
          "name": "stdout",
          "text": [
            "Jumlah KK B: \n"
          ]
        },
        {
          "output_type": "execute_result",
          "data": {
            "text/plain": [
              "35"
            ]
          },
          "metadata": {},
          "execution_count": 122
        }
      ]
    },
    {
      "cell_type": "code",
      "source": [
        "print(\"Jumlah KK C: \")\n",
        "df[df['Daerah'] == 'C']['Jumlah Kepala Keluarga'].sum()"
      ],
      "metadata": {
        "colab": {
          "base_uri": "https://localhost:8080/"
        },
        "id": "rTpRWMZIcVHT",
        "outputId": "42d2eb30-1e03-4d9c-8b1d-3e9ca73f7662"
      },
      "execution_count": 124,
      "outputs": [
        {
          "output_type": "stream",
          "name": "stdout",
          "text": [
            "Jumlah KK C: \n"
          ]
        },
        {
          "output_type": "execute_result",
          "data": {
            "text/plain": [
              "72"
            ]
          },
          "metadata": {},
          "execution_count": 124
        }
      ]
    },
    {
      "cell_type": "code",
      "source": [
        "print(\"Jumlah KK D: \")\n",
        "df[df['Daerah'] == 'D']['Jumlah Kepala Keluarga'].sum()"
      ],
      "metadata": {
        "colab": {
          "base_uri": "https://localhost:8080/"
        },
        "id": "Ba6FXUKscYL6",
        "outputId": "042d5a15-ab43-4cdb-9420-58f0e2713b60"
      },
      "execution_count": 126,
      "outputs": [
        {
          "output_type": "stream",
          "name": "stdout",
          "text": [
            "Jumlah KK D: \n"
          ]
        },
        {
          "output_type": "execute_result",
          "data": {
            "text/plain": [
              "99"
            ]
          },
          "metadata": {},
          "execution_count": 126
        }
      ]
    },
    {
      "cell_type": "code",
      "source": [
        "print(\"Jumlah KK E: \")\n",
        "df[df['Daerah'] == 'E']['Jumlah Kepala Keluarga'].sum()"
      ],
      "metadata": {
        "colab": {
          "base_uri": "https://localhost:8080/"
        },
        "id": "bPg5_Vd7cbVC",
        "outputId": "5c8c70ef-e6e4-4222-b426-8cffcd862bff"
      },
      "execution_count": 128,
      "outputs": [
        {
          "output_type": "stream",
          "name": "stdout",
          "text": [
            "Jumlah KK E: \n"
          ]
        },
        {
          "output_type": "execute_result",
          "data": {
            "text/plain": [
              "100"
            ]
          },
          "metadata": {},
          "execution_count": 128
        }
      ]
    },
    {
      "cell_type": "code",
      "source": [
        "print(\"Jumlah KK F: \")\n",
        "df[df['Daerah'] == 'F']['Jumlah Kepala Keluarga'].sum()"
      ],
      "metadata": {
        "colab": {
          "base_uri": "https://localhost:8080/"
        },
        "id": "-5CY-9gOcgvj",
        "outputId": "54b2421b-bae0-4b57-d164-2e0def35775c"
      },
      "execution_count": 130,
      "outputs": [
        {
          "output_type": "stream",
          "name": "stdout",
          "text": [
            "Jumlah KK F: \n"
          ]
        },
        {
          "output_type": "execute_result",
          "data": {
            "text/plain": [
              "82"
            ]
          },
          "metadata": {},
          "execution_count": 130
        }
      ]
    },
    {
      "cell_type": "code",
      "source": [
        "print(\"\")\n",
        "fig = plt.figure()\n",
        "ax = fig.add_axes([0,0,1,1])\n",
        "eskul = ['KK A','KK B','KK C','KK D','KK E','KK F']\n",
        "jumlah = [74,35,72,99,100,82]\n",
        "plt.title(\"Garik Bar KK \")\n",
        "ax.bar(eskul,jumlah )\n",
        "plt.show()\n",
        "\n",
        "#Pie chart\n",
        "print(\"\")\n",
        "fig = plt.figure()\n",
        "ax = fig.add_axes([0,0,1,1])\n",
        "ax.axis('equal')\n",
        "eskul = ['KK A','KK B','KK C','KK D','KK E','KK F']\n",
        "jumlah = [74,35,72,99,100,82]\n",
        "ax.pie(jumlah,labels=eskul,autopct=\"%1.2f%%\")\n",
        "plt.title(\"Garik Bar KK\")\n",
        "plt.show()"
      ],
      "metadata": {
        "colab": {
          "base_uri": "https://localhost:8080/",
          "height": 705
        },
        "id": "cD1GKEkncl4q",
        "outputId": "ef42070f-7a1b-4ea4-c935-a96bc0fb66b8"
      },
      "execution_count": 133,
      "outputs": [
        {
          "output_type": "stream",
          "name": "stdout",
          "text": [
            "\n"
          ]
        },
        {
          "output_type": "display_data",
          "data": {
            "text/plain": [
              "<Figure size 432x288 with 1 Axes>"
            ],
            "image/png": "[encoded data removed]"
          },
          "metadata": {
            "needs_background": "light"
          }
        },
        {
          "output_type": "stream",
          "name": "stdout",
          "text": [
            "\n"
          ]
        },
        {
          "output_type": "display_data",
          "data": {
            "text/plain": [
              "<Figure size 432x288 with 1 Axes>"
            ],
            "image/png": "[encoded data removed]"
          },
          "metadata": {}
        }
      ]
    },
    {
      "cell_type": "code",
      "source": [
        "print(\" Rata2 Usai Keluarga: \")\n",
        "df['Rata-rata Usia Keluarga'].sum()/15"
      ],
      "metadata": {
        "colab": {
          "base_uri": "https://localhost:8080/"
        },
        "id": "gZYvr0EQdOj5",
        "outputId": "53544dce-d030-4136-dd30-e02cec7f6ab6"
      },
      "execution_count": 136,
      "outputs": [
        {
          "output_type": "stream",
          "name": "stdout",
          "text": [
            " Rata2 Usai Keluarga: \n"
          ]
        },
        {
          "output_type": "execute_result",
          "data": {
            "text/plain": [
              "37.58666666666667"
            ]
          },
          "metadata": {},
          "execution_count": 136
        }
      ]
    },
    {
      "cell_type": "code",
      "source": [
        "hasil = 600000 + 1000000 + 800000 + 1000000 + 800000 + 1500000 + 800000 + 600000 + 600000 + 800000 + 1500000 + 600000 + 1500000 + 1000000 + 800000\n",
        "print(\"Jumlah Nominal Bantuan : \"+str(hasil))\n",
        "pajak = 0.02 * (4 * 600000)\n",
        "pajak2 = 0.03 * (5 * 800000)\n",
        "pajak3 = 0.04 * (3 * 1000000)\n",
        "pajak5 = 0.07 * (3 * 1500000)\n",
        "hasilp = pajak + pajak2 + pajak3 + pajak5\n",
        "hasilj = hasil - hasilp\n",
        "print(\"Jumlah Nominal + Pajak : \"+str(hasilj))\n",
        "\n",
        "print(\"\")\n",
        "fig = plt.figure()\n",
        "ax = fig.add_axes([0,0,1,1])\n",
        "eskul = ['Nominal Bantuan','Nominal Bantuan + Pajak']\n",
        "jumlah = [13900000,13297000.0]\n",
        "plt.title(\"Garik Bar Nominal Bantuan \")\n",
        "ax.bar(eskul,jumlah )\n",
        "plt.show()\n",
        "\n",
        "#Pie chart\n",
        "print(\"\")\n",
        "fig = plt.figure()\n",
        "ax = fig.add_axes([0,0,1,1])\n",
        "ax.axis('equal')\n",
        "eskul = ['Nominal Bantuan','Nominal Bantuan + Pajak']\n",
        "jumlah = [13900000,13297000.0]\n",
        "ax.pie(jumlah,labels=eskul,autopct=\"%1.2f%%\")\n",
        "plt.title(\"Garik Bar Nominal Bantuan\")\n",
        "plt.show()"
      ],
      "metadata": {
        "colab": {
          "base_uri": "https://localhost:8080/",
          "height": 739
        },
        "id": "LNPT73NMdsEj",
        "outputId": "89e725b6-e92c-4adb-d4bc-c4bd8630f24a"
      },
      "execution_count": 163,
      "outputs": [
        {
          "output_type": "stream",
          "name": "stdout",
          "text": [
            "Jumlah Nominal Bantuan : 13900000\n",
            "Jumlah Nominal + Pajak : 13297000.0\n",
            "\n"
          ]
        },
        {
          "output_type": "display_data",
          "data": {
            "text/plain": [
              "<Figure size 432x288 with 1 Axes>"
            ],
            "image/png": "[encoded data removed]"
          },
          "metadata": {
            "needs_background": "light"
          }
        },
        {
          "output_type": "stream",
          "name": "stdout",
          "text": [
            "\n"
          ]
        },
        {
          "output_type": "display_data",
          "data": {
            "text/plain": [
              "<Figure size 432x288 with 1 Axes>"
            ],
            "image/png": "[encoded data removed]"
          },
          "metadata": {}
        }
      ]
    }
  ]
}