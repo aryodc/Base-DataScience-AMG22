{
  "nbformat": 4,
  "nbformat_minor": 0,
  "metadata": {
    "colab": {
      "provenance": []
    },
    "kernelspec": {
      "name": "python3",
      "display_name": "Python 3"
    },
    "language_info": {
      "name": "python"
    }
  },
  "cells": [
    {
      "cell_type": "code",
      "execution_count": 100,
      "metadata": {
        "colab": {
          "base_uri": "https://localhost:8080/"
        },
        "id": "4lyQJUFnTMi6",
        "outputId": "c4057bb0-9595-4b00-c2ca-5f201561dbcb"
      },
      "outputs": [
        {
          "output_type": "stream",
          "name": "stdout",
          "text": [
            "Drive already mounted at /content/drive; to attempt to forcibly remount, call drive.mount(\"/content/drive\", force_remount=True).\n"
          ]
        }
      ],
      "source": [
        "import pandas as pd\n",
        "from google.colab import drive #memanggil package  \n",
        "drive.mount('/content/drive')  "
      ]
    },
    {
      "cell_type": "code",
      "source": [
        "path = '/content/drive/MyDrive/CSV/ikat - Sheet1.csv'\n",
        "df = pd.read_csv(path)\n",
        "df.describe()"
      ],
      "metadata": {
        "colab": {
          "base_uri": "https://localhost:8080/",
          "height": 300
        },
        "id": "h351YG7RTRIX",
        "outputId": "9ca13f4c-69a1-4958-c297-d883e90cf2cd"
      },
      "execution_count": 101,
      "outputs": [
        {
          "output_type": "execute_result",
          "data": {
            "text/plain": [
              "            volume    omzet_(rp)\n",
              "count    17.000000  1.700000e+01\n",
              "mean    548.000000  6.733824e+06\n",
              "std     720.996793  8.468882e+06\n",
              "min       1.000000  1.000000e+04\n",
              "25%      24.000000  4.800000e+05\n",
              "50%     134.000000  2.090000e+06\n",
              "75%    1126.000000  1.210000e+07\n",
              "max    2628.000000  2.628000e+07"
            ],
            "text/html": [
              "\n",
              "  <div id=\"df-0bf85f31-83e0-411d-8ece-a42622b72f87\">\n",
              "    <div class=\"colab-df-container\">\n",
              "      <div>\n",
              "<style scoped>\n",
              "    .dataframe tbody tr th:only-of-type {\n",
              "        vertical-align: middle;\n",
              "    }\n",
              "\n",
              "    .dataframe tbody tr th {\n",
              "        vertical-align: top;\n",
              "    }\n",
              "\n",
              "    .dataframe thead th {\n",
              "        text-align: right;\n",
              "    }\n",
              "</style>\n",
              "<table border=\"1\" class=\"dataframe\">\n",
              "  <thead>\n",
              "    <tr style=\"text-align: right;\">\n",
              "      <th></th>\n",
              "      <th>volume</th>\n",
              "      <th>omzet_(rp)</th>\n",
              "    </tr>\n",
              "  </thead>\n",
              "  <tbody>\n",
              "    <tr>\n",
              "      <th>count</th>\n",
              "      <td>17.000000</td>\n",
              "      <td>1.700000e+01</td>\n",
              "    </tr>\n",
              "    <tr>\n",
              "      <th>mean</th>\n",
              "      <td>548.000000</td>\n",
              "      <td>6.733824e+06</td>\n",
              "    </tr>\n",
              "    <tr>\n",
              "      <th>std</th>\n",
              "      <td>720.996793</td>\n",
              "      <td>8.468882e+06</td>\n",
              "    </tr>\n",
              "    <tr>\n",
              "      <th>min</th>\n",
              "      <td>1.000000</td>\n",
              "      <td>1.000000e+04</td>\n",
              "    </tr>\n",
              "    <tr>\n",
              "      <th>25%</th>\n",
              "      <td>24.000000</td>\n",
              "      <td>4.800000e+05</td>\n",
              "    </tr>\n",
              "    <tr>\n",
              "      <th>50%</th>\n",
              "      <td>134.000000</td>\n",
              "      <td>2.090000e+06</td>\n",
              "    </tr>\n",
              "    <tr>\n",
              "      <th>75%</th>\n",
              "      <td>1126.000000</td>\n",
              "      <td>1.210000e+07</td>\n",
              "    </tr>\n",
              "    <tr>\n",
              "      <th>max</th>\n",
              "      <td>2628.000000</td>\n",
              "      <td>2.628000e+07</td>\n",
              "    </tr>\n",
              "  </tbody>\n",
              "</table>\n",
              "</div>\n",
              "      <button class=\"colab-df-convert\" onclick=\"convertToInteractive('df-0bf85f31-83e0-411d-8ece-a42622b72f87')\"\n",
              "              title=\"Convert this dataframe to an interactive table.\"\n",
              "              style=\"display:none;\">\n",
              "        \n",
              "  <svg xmlns=\"http://www.w3.org/2000/svg\" height=\"24px\"viewBox=\"0 0 24 24\"\n",
              "       width=\"24px\">\n",
              "    <path d=\"M0 0h24v24H0V0z\" fill=\"none\"/>\n",
              "    <path d=\"M18.56 5.44l.94 2.06.94-2.06 2.06-.94-2.06-.94-.94-2.06-.94 2.06-2.06.94zm-11 1L8.5 8.5l.94-2.06 2.06-.94-2.06-.94L8.5 2.5l-.94 2.06-2.06.94zm10 10l.94 2.06.94-2.06 2.06-.94-2.06-.94-.94-2.06-.94 2.06-2.06.94z\"/><path d=\"M17.41 7.96l-1.37-1.37c-.4-.4-.92-.59-1.43-.59-.52 0-1.04.2-1.43.59L10.3 9.45l-7.72 7.72c-.78.78-.78 2.05 0 2.83L4 21.41c.39.39.9.59 1.41.59.51 0 1.02-.2 1.41-.59l7.78-7.78 2.81-2.81c.8-.78.8-2.07 0-2.86zM5.41 20L4 18.59l7.72-7.72 1.47 1.35L5.41 20z\"/>\n",
              "  </svg>\n",
              "      </button>\n",
              "      \n",
              "  <style>\n",
              "    .colab-df-container {\n",
              "      display:flex;\n",
              "      flex-wrap:wrap;\n",
              "      gap: 12px;\n",
              "    }\n",
              "\n",
              "    .colab-df-convert {\n",
              "      background-color: #E8F0FE;\n",
              "      border: none;\n",
              "      border-radius: 50%;\n",
              "      cursor: pointer;\n",
              "      display: none;\n",
              "      fill: #1967D2;\n",
              "      height: 32px;\n",
              "      padding: 0 0 0 0;\n",
              "      width: 32px;\n",
              "    }\n",
              "\n",
              "    .colab-df-convert:hover {\n",
              "      background-color: #E2EBFA;\n",
              "      box-shadow: 0px 1px 2px rgba(60, 64, 67, 0.3), 0px 1px 3px 1px rgba(60, 64, 67, 0.15);\n",
              "      fill: #174EA6;\n",
              "    }\n",
              "\n",
              "    [theme=dark] .colab-df-convert {\n",
              "      background-color: #3B4455;\n",
              "      fill: #D2E3FC;\n",
              "    }\n",
              "\n",
              "    [theme=dark] .colab-df-convert:hover {\n",
              "      background-color: #434B5C;\n",
              "      box-shadow: 0px 1px 3px 1px rgba(0, 0, 0, 0.15);\n",
              "      filter: drop-shadow(0px 1px 2px rgba(0, 0, 0, 0.3));\n",
              "      fill: #FFFFFF;\n",
              "    }\n",
              "  </style>\n",
              "\n",
              "      <script>\n",
              "        const buttonEl =\n",
              "          document.querySelector('#df-0bf85f31-83e0-411d-8ece-a42622b72f87 button.colab-df-convert');\n",
              "        buttonEl.style.display =\n",
              "          google.colab.kernel.accessAllowed ? 'block' : 'none';\n",
              "\n",
              "        async function convertToInteractive(key) {\n",
              "          const element = document.querySelector('#df-0bf85f31-83e0-411d-8ece-a42622b72f87');\n",
              "          const dataTable =\n",
              "            await google.colab.kernel.invokeFunction('convertToInteractive',\n",
              "                                                     [key], {});\n",
              "          if (!dataTable) return;\n",
              "\n",
              "          const docLinkHtml = 'Like what you see? Visit the ' +\n",
              "            '<a target=\"_blank\" href=https://colab.research.google.com/notebooks/data_table.ipynb>data table notebook</a>'\n",
              "            + ' to learn more about interactive tables.';\n",
              "          element.innerHTML = '';\n",
              "          dataTable['output_type'] = 'display_data';\n",
              "          await google.colab.output.renderOutput(dataTable, element);\n",
              "          const docLink = document.createElement('div');\n",
              "          docLink.innerHTML = docLinkHtml;\n",
              "          element.appendChild(docLink);\n",
              "        }\n",
              "      </script>\n",
              "    </div>\n",
              "  </div>\n",
              "  "
            ]
          },
          "metadata": {},
          "execution_count": 101
        }
      ]
    },
    {
      "cell_type": "code",
      "source": [
        "df"
      ],
      "metadata": {
        "colab": {
          "base_uri": "https://localhost:8080/",
          "height": 582
        },
        "id": "1RXhCjWaVBMX",
        "outputId": "17b1dc97-0fd8-437e-feda-b0c9ff86e01a"
      },
      "execution_count": 102,
      "outputs": [
        {
          "output_type": "execute_result",
          "data": {
            "text/plain": [
              "    lokasi_omzet_penjualan     jenis_komoditi  volume satuan  omzet_(rp)\n",
              "0               TC Klender             Songop       1   Ikat       10000\n",
              "1               TC Klender         Sri Gading       6   Ikat       85000\n",
              "2   Pasar Bunga Rawabelong        Bunga Balon      11   Ikat      110000\n",
              "3   Pasar Bunga Rawabelong      Buntut Bajing      16   Ikat      160000\n",
              "4   Pasar Bunga Rawabelong          Amarantus      24   Ikat      480000\n",
              "5               TC Klender              Palem      53   Ikat      570000\n",
              "6               TC Klender        Andong Plat      82   Ikat      990000\n",
              "7   Pasar Bunga Rawabelong  Asparagus Bintang      97   Ikat     1940000\n",
              "8               TC Klender             Andong     134   Ikat     2090000\n",
              "9   Pasar Bunga Rawabelong        Buah Pinang     245   Ikat     2450000\n",
              "10  Pasar Bunga Rawabelong     Florida Beauty     514   Ikat     5140000\n",
              "11  Pasar Bunga Rawabelong         Sri Gading     836   Ikat     8250000\n",
              "12  Pasar Bunga Rawabelong    Song of Jamaika    1210   Ikat    12100000\n",
              "13  Pasar Bunga Rawabelong            Kandaka    1126   Ikat    16890000\n",
              "14  Pasar Bunga Rawabelong              Pakis    1137   Ikat    17055000\n",
              "15  Pasar Bunga Rawabelong    Aster (Cipanas)    1196   Ikat    19875000\n",
              "16  Pasar Bunga Rawabelong             Ruskus    2628   Ikat    26280000"
            ],
            "text/html": [
              "\n",
              "  <div id=\"df-7d5851a7-1bca-41d3-b873-e6ccf329541e\">\n",
              "    <div class=\"colab-df-container\">\n",
              "      <div>\n",
              "<style scoped>\n",
              "    .dataframe tbody tr th:only-of-type {\n",
              "        vertical-align: middle;\n",
              "    }\n",
              "\n",
              "    .dataframe tbody tr th {\n",
              "        vertical-align: top;\n",
              "    }\n",
              "\n",
              "    .dataframe thead th {\n",
              "        text-align: right;\n",
              "    }\n",
              "</style>\n",
              "<table border=\"1\" class=\"dataframe\">\n",
              "  <thead>\n",
              "    <tr style=\"text-align: right;\">\n",
              "      <th></th>\n",
              "      <th>lokasi_omzet_penjualan</th>\n",
              "      <th>jenis_komoditi</th>\n",
              "      <th>volume</th>\n",
              "      <th>satuan</th>\n",
              "      <th>omzet_(rp)</th>\n",
              "    </tr>\n",
              "  </thead>\n",
              "  <tbody>\n",
              "    <tr>\n",
              "      <th>0</th>\n",
              "      <td>TC Klender</td>\n",
              "      <td>Songop</td>\n",
              "      <td>1</td>\n",
              "      <td>Ikat</td>\n",
              "      <td>10000</td>\n",
              "    </tr>\n",
              "    <tr>\n",
              "      <th>1</th>\n",
              "      <td>TC Klender</td>\n",
              "      <td>Sri Gading</td>\n",
              "      <td>6</td>\n",
              "      <td>Ikat</td>\n",
              "      <td>85000</td>\n",
              "    </tr>\n",
              "    <tr>\n",
              "      <th>2</th>\n",
              "      <td>Pasar Bunga Rawabelong</td>\n",
              "      <td>Bunga Balon</td>\n",
              "      <td>11</td>\n",
              "      <td>Ikat</td>\n",
              "      <td>110000</td>\n",
              "    </tr>\n",
              "    <tr>\n",
              "      <th>3</th>\n",
              "      <td>Pasar Bunga Rawabelong</td>\n",
              "      <td>Buntut Bajing</td>\n",
              "      <td>16</td>\n",
              "      <td>Ikat</td>\n",
              "      <td>160000</td>\n",
              "    </tr>\n",
              "    <tr>\n",
              "      <th>4</th>\n",
              "      <td>Pasar Bunga Rawabelong</td>\n",
              "      <td>Amarantus</td>\n",
              "      <td>24</td>\n",
              "      <td>Ikat</td>\n",
              "      <td>480000</td>\n",
              "    </tr>\n",
              "    <tr>\n",
              "      <th>5</th>\n",
              "      <td>TC Klender</td>\n",
              "      <td>Palem</td>\n",
              "      <td>53</td>\n",
              "      <td>Ikat</td>\n",
              "      <td>570000</td>\n",
              "    </tr>\n",
              "    <tr>\n",
              "      <th>6</th>\n",
              "      <td>TC Klender</td>\n",
              "      <td>Andong Plat</td>\n",
              "      <td>82</td>\n",
              "      <td>Ikat</td>\n",
              "      <td>990000</td>\n",
              "    </tr>\n",
              "    <tr>\n",
              "      <th>7</th>\n",
              "      <td>Pasar Bunga Rawabelong</td>\n",
              "      <td>Asparagus Bintang</td>\n",
              "      <td>97</td>\n",
              "      <td>Ikat</td>\n",
              "      <td>1940000</td>\n",
              "    </tr>\n",
              "    <tr>\n",
              "      <th>8</th>\n",
              "      <td>TC Klender</td>\n",
              "      <td>Andong</td>\n",
              "      <td>134</td>\n",
              "      <td>Ikat</td>\n",
              "      <td>2090000</td>\n",
              "    </tr>\n",
              "    <tr>\n",
              "      <th>9</th>\n",
              "      <td>Pasar Bunga Rawabelong</td>\n",
              "      <td>Buah Pinang</td>\n",
              "      <td>245</td>\n",
              "      <td>Ikat</td>\n",
              "      <td>2450000</td>\n",
              "    </tr>\n",
              "    <tr>\n",
              "      <th>10</th>\n",
              "      <td>Pasar Bunga Rawabelong</td>\n",
              "      <td>Florida Beauty</td>\n",
              "      <td>514</td>\n",
              "      <td>Ikat</td>\n",
              "      <td>5140000</td>\n",
              "    </tr>\n",
              "    <tr>\n",
              "      <th>11</th>\n",
              "      <td>Pasar Bunga Rawabelong</td>\n",
              "      <td>Sri Gading</td>\n",
              "      <td>836</td>\n",
              "      <td>Ikat</td>\n",
              "      <td>8250000</td>\n",
              "    </tr>\n",
              "    <tr>\n",
              "      <th>12</th>\n",
              "      <td>Pasar Bunga Rawabelong</td>\n",
              "      <td>Song of Jamaika</td>\n",
              "      <td>1210</td>\n",
              "      <td>Ikat</td>\n",
              "      <td>12100000</td>\n",
              "    </tr>\n",
              "    <tr>\n",
              "      <th>13</th>\n",
              "      <td>Pasar Bunga Rawabelong</td>\n",
              "      <td>Kandaka</td>\n",
              "      <td>1126</td>\n",
              "      <td>Ikat</td>\n",
              "      <td>16890000</td>\n",
              "    </tr>\n",
              "    <tr>\n",
              "      <th>14</th>\n",
              "      <td>Pasar Bunga Rawabelong</td>\n",
              "      <td>Pakis</td>\n",
              "      <td>1137</td>\n",
              "      <td>Ikat</td>\n",
              "      <td>17055000</td>\n",
              "    </tr>\n",
              "    <tr>\n",
              "      <th>15</th>\n",
              "      <td>Pasar Bunga Rawabelong</td>\n",
              "      <td>Aster (Cipanas)</td>\n",
              "      <td>1196</td>\n",
              "      <td>Ikat</td>\n",
              "      <td>19875000</td>\n",
              "    </tr>\n",
              "    <tr>\n",
              "      <th>16</th>\n",
              "      <td>Pasar Bunga Rawabelong</td>\n",
              "      <td>Ruskus</td>\n",
              "      <td>2628</td>\n",
              "      <td>Ikat</td>\n",
              "      <td>26280000</td>\n",
              "    </tr>\n",
              "  </tbody>\n",
              "</table>\n",
              "</div>\n",
              "      <button class=\"colab-df-convert\" onclick=\"convertToInteractive('df-7d5851a7-1bca-41d3-b873-e6ccf329541e')\"\n",
              "              title=\"Convert this dataframe to an interactive table.\"\n",
              "              style=\"display:none;\">\n",
              "        \n",
              "  <svg xmlns=\"http://www.w3.org/2000/svg\" height=\"24px\"viewBox=\"0 0 24 24\"\n",
              "       width=\"24px\">\n",
              "    <path d=\"M0 0h24v24H0V0z\" fill=\"none\"/>\n",
              "    <path d=\"M18.56 5.44l.94 2.06.94-2.06 2.06-.94-2.06-.94-.94-2.06-.94 2.06-2.06.94zm-11 1L8.5 8.5l.94-2.06 2.06-.94-2.06-.94L8.5 2.5l-.94 2.06-2.06.94zm10 10l.94 2.06.94-2.06 2.06-.94-2.06-.94-.94-2.06-.94 2.06-2.06.94z\"/><path d=\"M17.41 7.96l-1.37-1.37c-.4-.4-.92-.59-1.43-.59-.52 0-1.04.2-1.43.59L10.3 9.45l-7.72 7.72c-.78.78-.78 2.05 0 2.83L4 21.41c.39.39.9.59 1.41.59.51 0 1.02-.2 1.41-.59l7.78-7.78 2.81-2.81c.8-.78.8-2.07 0-2.86zM5.41 20L4 18.59l7.72-7.72 1.47 1.35L5.41 20z\"/>\n",
              "  </svg>\n",
              "      </button>\n",
              "      \n",
              "  <style>\n",
              "    .colab-df-container {\n",
              "      display:flex;\n",
              "      flex-wrap:wrap;\n",
              "      gap: 12px;\n",
              "    }\n",
              "\n",
              "    .colab-df-convert {\n",
              "      background-color: #E8F0FE;\n",
              "      border: none;\n",
              "      border-radius: 50%;\n",
              "      cursor: pointer;\n",
              "      display: none;\n",
              "      fill: #1967D2;\n",
              "      height: 32px;\n",
              "      padding: 0 0 0 0;\n",
              "      width: 32px;\n",
              "    }\n",
              "\n",
              "    .colab-df-convert:hover {\n",
              "      background-color: #E2EBFA;\n",
              "      box-shadow: 0px 1px 2px rgba(60, 64, 67, 0.3), 0px 1px 3px 1px rgba(60, 64, 67, 0.15);\n",
              "      fill: #174EA6;\n",
              "    }\n",
              "\n",
              "    [theme=dark] .colab-df-convert {\n",
              "      background-color: #3B4455;\n",
              "      fill: #D2E3FC;\n",
              "    }\n",
              "\n",
              "    [theme=dark] .colab-df-convert:hover {\n",
              "      background-color: #434B5C;\n",
              "      box-shadow: 0px 1px 3px 1px rgba(0, 0, 0, 0.15);\n",
              "      filter: drop-shadow(0px 1px 2px rgba(0, 0, 0, 0.3));\n",
              "      fill: #FFFFFF;\n",
              "    }\n",
              "  </style>\n",
              "\n",
              "      <script>\n",
              "        const buttonEl =\n",
              "          document.querySelector('#df-7d5851a7-1bca-41d3-b873-e6ccf329541e button.colab-df-convert');\n",
              "        buttonEl.style.display =\n",
              "          google.colab.kernel.accessAllowed ? 'block' : 'none';\n",
              "\n",
              "        async function convertToInteractive(key) {\n",
              "          const element = document.querySelector('#df-7d5851a7-1bca-41d3-b873-e6ccf329541e');\n",
              "          const dataTable =\n",
              "            await google.colab.kernel.invokeFunction('convertToInteractive',\n",
              "                                                     [key], {});\n",
              "          if (!dataTable) return;\n",
              "\n",
              "          const docLinkHtml = 'Like what you see? Visit the ' +\n",
              "            '<a target=\"_blank\" href=https://colab.research.google.com/notebooks/data_table.ipynb>data table notebook</a>'\n",
              "            + ' to learn more about interactive tables.';\n",
              "          element.innerHTML = '';\n",
              "          dataTable['output_type'] = 'display_data';\n",
              "          await google.colab.output.renderOutput(dataTable, element);\n",
              "          const docLink = document.createElement('div');\n",
              "          docLink.innerHTML = docLinkHtml;\n",
              "          element.appendChild(docLink);\n",
              "        }\n",
              "      </script>\n",
              "    </div>\n",
              "  </div>\n",
              "  "
            ]
          },
          "metadata": {},
          "execution_count": 102
        }
      ]
    },
    {
      "cell_type": "code",
      "source": [
        "import matplotlib.pyplot as plt\n",
        "\n",
        "df.plot(kind='scatter',x='volume',y='omzet_(rp)')\n",
        "\n",
        "plt.title('Data Jumlah Omzet')\n",
        "plt.xlabel('Volume')\n",
        "plt.ylabel('Omzet')\n",
        "plt.xlim(0, 2700)\n",
        "plt.ylim(0, 27000000)\n",
        "plt.grid(True)\n",
        "plt.show()"
      ],
      "metadata": {
        "colab": {
          "base_uri": "https://localhost:8080/",
          "height": 295
        },
        "id": "VKkJieeyVBut",
        "outputId": "59d0deaa-813e-4231-8e2b-93f64bbdefd6"
      },
      "execution_count": 108,
      "outputs": [
        {
          "output_type": "display_data",
          "data": {
            "text/plain": [
              "<Figure size 432x288 with 1 Axes>"
            ],
            "image/png": "[encoded data removed]"
          },
          "metadata": {
            "needs_background": "light"
          }
        }
      ]
    },
    {
      "cell_type": "code",
      "source": [
        "import numpy as np\n",
        "x = np.array(df['volume'])\n",
        "y = np.array(df['omzet_(rp)'])\n",
        "\n",
        "print(f'X : {x}')\n",
        "print(f'Y : {y}')\n",
        "\n"
      ],
      "metadata": {
        "colab": {
          "base_uri": "https://localhost:8080/"
        },
        "id": "oSji13rEciwQ",
        "outputId": "05568a13-6604-435c-db6a-762d1aaf21a2"
      },
      "execution_count": 109,
      "outputs": [
        {
          "output_type": "stream",
          "name": "stdout",
          "text": [
            "X : [   1    6   11   16   24   53   82   97  134  245  514  836 1210 1126\n",
            " 1137 1196 2628]\n",
            "Y : [   10000    85000   110000   160000   480000   570000   990000  1940000\n",
            "  2090000  2450000  5140000  8250000 12100000 16890000 17055000 19875000\n",
            " 26280000]\n"
          ]
        }
      ]
    },
    {
      "cell_type": "code",
      "source": [
        "x = x.reshape(-1, 1)\n",
        "x.shape"
      ],
      "metadata": {
        "colab": {
          "base_uri": "https://localhost:8080/"
        },
        "id": "XAww3Fm3cr8P",
        "outputId": "5d820015-78a3-4943-b063-d7c020c6dcaa"
      },
      "execution_count": 110,
      "outputs": [
        {
          "output_type": "execute_result",
          "data": {
            "text/plain": [
              "(17, 1)"
            ]
          },
          "metadata": {},
          "execution_count": 110
        }
      ]
    },
    {
      "cell_type": "code",
      "source": [
        "x"
      ],
      "metadata": {
        "colab": {
          "base_uri": "https://localhost:8080/"
        },
        "id": "N-ykubc-cvxP",
        "outputId": "8ce8371d-fc55-4aa1-91cd-c9eb6a4ac708"
      },
      "execution_count": 111,
      "outputs": [
        {
          "output_type": "execute_result",
          "data": {
            "text/plain": [
              "array([[   1],\n",
              "       [   6],\n",
              "       [  11],\n",
              "       [  16],\n",
              "       [  24],\n",
              "       [  53],\n",
              "       [  82],\n",
              "       [  97],\n",
              "       [ 134],\n",
              "       [ 245],\n",
              "       [ 514],\n",
              "       [ 836],\n",
              "       [1210],\n",
              "       [1126],\n",
              "       [1137],\n",
              "       [1196],\n",
              "       [2628]])"
            ]
          },
          "metadata": {},
          "execution_count": 111
        }
      ]
    },
    {
      "cell_type": "code",
      "source": [
        "from sklearn.linear_model import LinearRegression\n",
        "\n",
        "model = LinearRegression()\n",
        "model.fit(x,y)"
      ],
      "metadata": {
        "colab": {
          "base_uri": "https://localhost:8080/"
        },
        "id": "DG31C52mcw25",
        "outputId": "285a7027-87d0-417f-837f-b4f31fbb226a"
      },
      "execution_count": 112,
      "outputs": [
        {
          "output_type": "execute_result",
          "data": {
            "text/plain": [
              "LinearRegression()"
            ]
          },
          "metadata": {},
          "execution_count": 112
        }
      ]
    },
    {
      "cell_type": "code",
      "source": [
        "x_vis = np.array([0, 27000000]).reshape(-1,1) #Pembuatan Garis Merah\n",
        "y_vis = model.predict(x_vis) #Model machine learning"
      ],
      "metadata": {
        "id": "rWBAejV_c1Fn"
      },
      "execution_count": 114,
      "outputs": []
    },
    {
      "cell_type": "code",
      "source": [
        "plt.scatter(x,y)\n",
        "plt.plot(x_vis, y_vis, '-r')\n",
        "plt.title('Indeks')\n",
        "plt.xlabel('volume')\n",
        "plt.ylabel('Omzet')\n",
        "plt.xlim(0, 2700)\n",
        "plt.ylim(0, 27000000)\n",
        "plt.grid(True)\n",
        "plt.show()"
      ],
      "metadata": {
        "colab": {
          "base_uri": "https://localhost:8080/",
          "height": 295
        },
        "id": "2v-2ol6zc3FZ",
        "outputId": "797e45c1-c88a-4ff1-b81c-7456bfefe4fa"
      },
      "execution_count": 115,
      "outputs": [
        {
          "output_type": "display_data",
          "data": {
            "text/plain": [
              "<Figure size 432x288 with 1 Axes>"
            ],
            "image/png": "[encoded data removed]"
          },
          "metadata": {
            "needs_background": "light"
          }
        }
      ]
    },
    {
      "cell_type": "code",
      "source": [
        "print(f'intercept : {model.intercept_}')\n",
        "print(f\"slope : {model.coef_}\")"
      ],
      "metadata": {
        "colab": {
          "base_uri": "https://localhost:8080/"
        },
        "id": "WPKgGkzH3BAC",
        "outputId": "9fb1566a-4bcc-48ee-fd8c-3d17bd2691e3"
      },
      "execution_count": 116,
      "outputs": [
        {
          "output_type": "stream",
          "name": "stdout",
          "text": [
            "intercept : 547949.6546756979\n",
            "slope : [11288.09101229]\n"
          ]
        }
      ]
    },
    {
      "cell_type": "code",
      "source": [
        "#Prediksi sample data\n",
        "volume = np.array([5500000, 1000000, 1400000, 2200000]).reshape(-1,1)\n",
        "volume"
      ],
      "metadata": {
        "colab": {
          "base_uri": "https://localhost:8080/"
        },
        "id": "1NRX2SFb3FYZ",
        "outputId": "7df69111-286b-48b6-d1dd-c482e30cc916"
      },
      "execution_count": 117,
      "outputs": [
        {
          "output_type": "execute_result",
          "data": {
            "text/plain": [
              "array([[5500000],\n",
              "       [1000000],\n",
              "       [1400000],\n",
              "       [2200000]])"
            ]
          },
          "metadata": {},
          "execution_count": 117
        }
      ]
    },
    {
      "cell_type": "code",
      "source": [
        "prediksi_indeks = model.predict(volume)\n",
        "prediksi_indeks"
      ],
      "metadata": {
        "colab": {
          "base_uri": "https://localhost:8080/"
        },
        "id": "SQjEEzAf3J-x",
        "outputId": "a13348a3-9f2a-424e-a192-1f7614847dc0"
      },
      "execution_count": 118,
      "outputs": [
        {
          "output_type": "execute_result",
          "data": {
            "text/plain": [
              "array([6.20850485e+10, 1.12886390e+10, 1.58038754e+10, 2.48343482e+10])"
            ]
          },
          "metadata": {},
          "execution_count": 118
        }
      ]
    },
    {
      "cell_type": "code",
      "source": [
        "for penduduk, index in zip(volume, prediksi_indeks):\n",
        "  print(f'Jumlah Penduduk : {penduduk} Prediksi Indeks : {index}')"
      ],
      "metadata": {
        "colab": {
          "base_uri": "https://localhost:8080/"
        },
        "id": "_3a9iNSV52Ve",
        "outputId": "911f0a14-d2b9-4fb5-f5f1-75ae1787f07b"
      },
      "execution_count": 119,
      "outputs": [
        {
          "output_type": "stream",
          "name": "stdout",
          "text": [
            "Jumlah Penduduk : [5500000] Prediksi Indeks : 62085048517.261185\n",
            "Jumlah Penduduk : [1000000] Prediksi Indeks : 11288638961.946768\n",
            "Jumlah Penduduk : [1400000] Prediksi Indeks : 15803875366.863605\n",
            "Jumlah Penduduk : [2200000] Prediksi Indeks : 24834348176.697277\n"
          ]
        }
      ]
    }
  ]
}