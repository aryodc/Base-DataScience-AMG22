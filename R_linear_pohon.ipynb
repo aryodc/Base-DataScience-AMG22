{
  "nbformat": 4,
  "nbformat_minor": 0,
  "metadata": {
    "colab": {
      "provenance": []
    },
    "kernelspec": {
      "name": "python3",
      "display_name": "Python 3"
    },
    "language_info": {
      "name": "python"
    }
  },
  "cells": [
    {
      "cell_type": "code",
      "execution_count": null,
      "metadata": {
        "colab": {
          "base_uri": "https://localhost:8080/"
        },
        "id": "03CpX0Pw0I7G",
        "outputId": "fa6b1051-2709-4bde-f6bf-fbe23ec55689"
      },
      "outputs": [
        {
          "output_type": "stream",
          "name": "stdout",
          "text": [
            "Drive already mounted at /content/drive; to attempt to forcibly remount, call drive.mount(\"/content/drive\", force_remount=True).\n"
          ]
        }
      ],
      "source": [
        "import pandas as pd\n",
        "from google.colab import drive #memanggil package  \n",
        "drive.mount('/content/drive')  "
      ]
    },
    {
      "cell_type": "code",
      "source": [
        "path = '/content/drive/MyDrive/CSV/omset - Sheet1.csv'\n",
        "df = pd.read_csv(path)\n",
        "df.describe()"
      ],
      "metadata": {
        "colab": {
          "base_uri": "https://localhost:8080/",
          "height": 300
        },
        "id": "O73qutMQ0OZq",
        "outputId": "8a35b243-498f-4d5f-87b8-51d90aae8b1f"
      },
      "execution_count": null,
      "outputs": [
        {
          "output_type": "execute_result",
          "data": {
            "text/plain": [
              "          volume    omzet_(rp)\n",
              "count  42.000000  4.200000e+01\n",
              "mean   15.142857  3.464524e+06\n",
              "std    13.221511  3.854521e+06\n",
              "min     2.000000  1.200000e+05\n",
              "25%     5.000000  7.500000e+05\n",
              "50%    11.000000  1.815000e+06\n",
              "75%    21.750000  5.062500e+06\n",
              "max    52.000000  1.470000e+07"
            ],
            "text/html": [
              "\n",
              "  <div id=\"df-7e1e9575-2e3a-47a0-b485-c540055c38e9\">\n",
              "    <div class=\"colab-df-container\">\n",
              "      <div>\n",
              "<style scoped>\n",
              "    .dataframe tbody tr th:only-of-type {\n",
              "        vertical-align: middle;\n",
              "    }\n",
              "\n",
              "    .dataframe tbody tr th {\n",
              "        vertical-align: top;\n",
              "    }\n",
              "\n",
              "    .dataframe thead th {\n",
              "        text-align: right;\n",
              "    }\n",
              "</style>\n",
              "<table border=\"1\" class=\"dataframe\">\n",
              "  <thead>\n",
              "    <tr style=\"text-align: right;\">\n",
              "      <th></th>\n",
              "      <th>volume</th>\n",
              "      <th>omzet_(rp)</th>\n",
              "    </tr>\n",
              "  </thead>\n",
              "  <tbody>\n",
              "    <tr>\n",
              "      <th>count</th>\n",
              "      <td>42.000000</td>\n",
              "      <td>4.200000e+01</td>\n",
              "    </tr>\n",
              "    <tr>\n",
              "      <th>mean</th>\n",
              "      <td>15.142857</td>\n",
              "      <td>3.464524e+06</td>\n",
              "    </tr>\n",
              "    <tr>\n",
              "      <th>std</th>\n",
              "      <td>13.221511</td>\n",
              "      <td>3.854521e+06</td>\n",
              "    </tr>\n",
              "    <tr>\n",
              "      <th>min</th>\n",
              "      <td>2.000000</td>\n",
              "      <td>1.200000e+05</td>\n",
              "    </tr>\n",
              "    <tr>\n",
              "      <th>25%</th>\n",
              "      <td>5.000000</td>\n",
              "      <td>7.500000e+05</td>\n",
              "    </tr>\n",
              "    <tr>\n",
              "      <th>50%</th>\n",
              "      <td>11.000000</td>\n",
              "      <td>1.815000e+06</td>\n",
              "    </tr>\n",
              "    <tr>\n",
              "      <th>75%</th>\n",
              "      <td>21.750000</td>\n",
              "      <td>5.062500e+06</td>\n",
              "    </tr>\n",
              "    <tr>\n",
              "      <th>max</th>\n",
              "      <td>52.000000</td>\n",
              "      <td>1.470000e+07</td>\n",
              "    </tr>\n",
              "  </tbody>\n",
              "</table>\n",
              "</div>\n",
              "      <button class=\"colab-df-convert\" onclick=\"convertToInteractive('df-7e1e9575-2e3a-47a0-b485-c540055c38e9')\"\n",
              "              title=\"Convert this dataframe to an interactive table.\"\n",
              "              style=\"display:none;\">\n",
              "        \n",
              "  <svg xmlns=\"http://www.w3.org/2000/svg\" height=\"24px\"viewBox=\"0 0 24 24\"\n",
              "       width=\"24px\">\n",
              "    <path d=\"M0 0h24v24H0V0z\" fill=\"none\"/>\n",
              "    <path d=\"M18.56 5.44l.94 2.06.94-2.06 2.06-.94-2.06-.94-.94-2.06-.94 2.06-2.06.94zm-11 1L8.5 8.5l.94-2.06 2.06-.94-2.06-.94L8.5 2.5l-.94 2.06-2.06.94zm10 10l.94 2.06.94-2.06 2.06-.94-2.06-.94-.94-2.06-.94 2.06-2.06.94z\"/><path d=\"M17.41 7.96l-1.37-1.37c-.4-.4-.92-.59-1.43-.59-.52 0-1.04.2-1.43.59L10.3 9.45l-7.72 7.72c-.78.78-.78 2.05 0 2.83L4 21.41c.39.39.9.59 1.41.59.51 0 1.02-.2 1.41-.59l7.78-7.78 2.81-2.81c.8-.78.8-2.07 0-2.86zM5.41 20L4 18.59l7.72-7.72 1.47 1.35L5.41 20z\"/>\n",
              "  </svg>\n",
              "      </button>\n",
              "      \n",
              "  <style>\n",
              "    .colab-df-container {\n",
              "      display:flex;\n",
              "      flex-wrap:wrap;\n",
              "      gap: 12px;\n",
              "    }\n",
              "\n",
              "    .colab-df-convert {\n",
              "      background-color: #E8F0FE;\n",
              "      border: none;\n",
              "      border-radius: 50%;\n",
              "      cursor: pointer;\n",
              "      display: none;\n",
              "      fill: #1967D2;\n",
              "      height: 32px;\n",
              "      padding: 0 0 0 0;\n",
              "      width: 32px;\n",
              "    }\n",
              "\n",
              "    .colab-df-convert:hover {\n",
              "      background-color: #E2EBFA;\n",
              "      box-shadow: 0px 1px 2px rgba(60, 64, 67, 0.3), 0px 1px 3px 1px rgba(60, 64, 67, 0.15);\n",
              "      fill: #174EA6;\n",
              "    }\n",
              "\n",
              "    [theme=dark] .colab-df-convert {\n",
              "      background-color: #3B4455;\n",
              "      fill: #D2E3FC;\n",
              "    }\n",
              "\n",
              "    [theme=dark] .colab-df-convert:hover {\n",
              "      background-color: #434B5C;\n",
              "      box-shadow: 0px 1px 3px 1px rgba(0, 0, 0, 0.15);\n",
              "      filter: drop-shadow(0px 1px 2px rgba(0, 0, 0, 0.3));\n",
              "      fill: #FFFFFF;\n",
              "    }\n",
              "  </style>\n",
              "\n",
              "      <script>\n",
              "        const buttonEl =\n",
              "          document.querySelector('#df-7e1e9575-2e3a-47a0-b485-c540055c38e9 button.colab-df-convert');\n",
              "        buttonEl.style.display =\n",
              "          google.colab.kernel.accessAllowed ? 'block' : 'none';\n",
              "\n",
              "        async function convertToInteractive(key) {\n",
              "          const element = document.querySelector('#df-7e1e9575-2e3a-47a0-b485-c540055c38e9');\n",
              "          const dataTable =\n",
              "            await google.colab.kernel.invokeFunction('convertToInteractive',\n",
              "                                                     [key], {});\n",
              "          if (!dataTable) return;\n",
              "\n",
              "          const docLinkHtml = 'Like what you see? Visit the ' +\n",
              "            '<a target=\"_blank\" href=https://colab.research.google.com/notebooks/data_table.ipynb>data table notebook</a>'\n",
              "            + ' to learn more about interactive tables.';\n",
              "          element.innerHTML = '';\n",
              "          dataTable['output_type'] = 'display_data';\n",
              "          await google.colab.output.renderOutput(dataTable, element);\n",
              "          const docLink = document.createElement('div');\n",
              "          docLink.innerHTML = docLinkHtml;\n",
              "          element.appendChild(docLink);\n",
              "        }\n",
              "      </script>\n",
              "    </div>\n",
              "  </div>\n",
              "  "
            ]
          },
          "metadata": {},
          "execution_count": 272
        }
      ]
    },
    {
      "cell_type": "code",
      "source": [
        "df"
      ],
      "metadata": {
        "colab": {
          "base_uri": "https://localhost:8080/",
          "height": 1000
        },
        "id": "_x0cS2H_0dZi",
        "outputId": "a60eb72b-f82a-4dff-ca00-14770b196ad0"
      },
      "execution_count": null,
      "outputs": [
        {
          "output_type": "execute_result",
          "data": {
            "text/plain": [
              "     lokasi_omzet_penjualan     jenis_komoditi  volume satuan  omzet_(rp)\n",
              "0   Penangkar Bibit Ragunan        Pohon sukun       3  Pohon      750000\n",
              "1   Penangkar Bibit Ragunan        Nangka Mini       8  Pohon     1200000\n",
              "2   Penangkar Bibit Ragunan            Menteng       3  Pohon      450000\n",
              "3   Penangkar Bibit Ragunan             Cermai       5  Pohon      375000\n",
              "4   Penangkar Bibit Ragunan     Durian Montong      35  Pohon     8750000\n",
              "5   Penangkar Bibit Ragunan    Durian Sitokong      42  Pohon    14700000\n",
              "6   Penangkar Bibit Ragunan          Jeruk Kip      18  Pohon     4500000\n",
              "7   Penangkar Bibit Ragunan        Jeruk Nipis      14  Pohon     3500000\n",
              "8   Penangkar Bibit Ragunan        Jeruk purut      23  Pohon     3450000\n",
              "9   Penangkar Bibit Ragunan         Jeruk limo      13  Pohon     1950000\n",
              "10  Penangkar Bibit Ragunan      Jeruk limonti      16  Pohon     2400000\n",
              "11  Penangkar Bibit Ragunan         Jeruk Bali      18  Pohon     3600000\n",
              "12  Penangkar Bibit Ragunan       Jeruk Nagami      44  Pohon    11000000\n",
              "13  Penangkar Bibit Ragunan    Mangga Manalagi      22  Pohon     5500000\n",
              "14  Penangkar Bibit Ragunan      Mangga harum       44  Pohon    11000000\n",
              "15  Penangkar Bibit Ragunan      Mangga ciojao       7  Pohon     5250000\n",
              "16  Penangkar Bibit Ragunan     Belimbing Dewi       5  Pohon      750000\n",
              "17  Penangkar Bibit Ragunan  belimbing diamond       8  Pohon     2000000\n",
              "18  Penangkar Bibit Ragunan    Rambutan ropiah      11  Pohon     3850000\n",
              "19  Penangkar Bibit Ragunan    rambutan Binjai       6  Pohon     2100000\n",
              "20  Penangkar Bibit Ragunan         jambu biji      52  Pohon    13000000\n",
              "21  Penangkar Bibit Ragunan     jambu airlilin      27  Pohon     9450000\n",
              "22  Penangkar Bibit Ragunan       jambu citra       26  Pohon     6500000\n",
              "23  Penangkar Bibit Ragunan    jambu air apel       11  Pohon     1650000\n",
              "24  Penangkar Bibit Ragunan        sawo betawi       5  Pohon      750000\n",
              "25  Penangkar Bibit Ragunan      Jamblang ungu       2  Pohon      500000\n",
              "26  Penangkar Bibit Ragunan           manggis        2  Pohon     1400000\n",
              "27  Penangkar Bibit Ragunan              Matoa       3  Pohon      210000\n",
              "28  Penangkar Bibit Ragunan             sirsak      13  Pohon     1950000\n",
              "29  Penangkar Bibit Ragunan            Srikaya      13  Pohon      975000\n",
              "30  Penangkar Bibit Ragunan               Duku       3  Pohon      450000\n",
              "31  Penangkar Bibit Ragunan            Markisa       8  Pohon     1200000\n",
              "32  Penangkar Bibit Ragunan            Anggur       29  Pohon     7250000\n",
              "33  Penangkar Bibit Ragunan              Rukem      10  Pohon     1500000\n",
              "34  Penangkar Bibit Ragunan               Leci       2  Pohon      120000\n",
              "35  Penangkar Bibit Ragunan         Kedongdong       3  Pohon      375000\n",
              "36  Penangkar Bibit Ragunan            Alpukat      30  Pohon     7500000\n",
              "37  Penangkar Bibit Ragunan        pohon kepel       9  Pohon      450000\n",
              "38  Penangkar Bibit Ragunan            jengkol      12  Pohon      900000\n",
              "39  Penangkar Bibit Ragunan             Cincau       5  Pohon      250000\n",
              "40  Penangkar Bibit Ragunan        sirih merah      21  Pohon     1680000\n",
              "41  Penangkar Bibit Ragunan         cabe merah       5  Pohon      375000"
            ],
            "text/html": [
              "\n",
              "  <div id=\"df-52941275-e4e7-4baa-a3ee-e407e6d67361\">\n",
              "    <div class=\"colab-df-container\">\n",
              "      <div>\n",
              "<style scoped>\n",
              "    .dataframe tbody tr th:only-of-type {\n",
              "        vertical-align: middle;\n",
              "    }\n",
              "\n",
              "    .dataframe tbody tr th {\n",
              "        vertical-align: top;\n",
              "    }\n",
              "\n",
              "    .dataframe thead th {\n",
              "        text-align: right;\n",
              "    }\n",
              "</style>\n",
              "<table border=\"1\" class=\"dataframe\">\n",
              "  <thead>\n",
              "    <tr style=\"text-align: right;\">\n",
              "      <th></th>\n",
              "      <th>lokasi_omzet_penjualan</th>\n",
              "      <th>jenis_komoditi</th>\n",
              "      <th>volume</th>\n",
              "      <th>satuan</th>\n",
              "      <th>omzet_(rp)</th>\n",
              "    </tr>\n",
              "  </thead>\n",
              "  <tbody>\n",
              "    <tr>\n",
              "      <th>0</th>\n",
              "      <td>Penangkar Bibit Ragunan</td>\n",
              "      <td>Pohon sukun</td>\n",
              "      <td>3</td>\n",
              "      <td>Pohon</td>\n",
              "      <td>750000</td>\n",
              "    </tr>\n",
              "    <tr>\n",
              "      <th>1</th>\n",
              "      <td>Penangkar Bibit Ragunan</td>\n",
              "      <td>Nangka Mini</td>\n",
              "      <td>8</td>\n",
              "      <td>Pohon</td>\n",
              "      <td>1200000</td>\n",
              "    </tr>\n",
              "    <tr>\n",
              "      <th>2</th>\n",
              "      <td>Penangkar Bibit Ragunan</td>\n",
              "      <td>Menteng</td>\n",
              "      <td>3</td>\n",
              "      <td>Pohon</td>\n",
              "      <td>450000</td>\n",
              "    </tr>\n",
              "    <tr>\n",
              "      <th>3</th>\n",
              "      <td>Penangkar Bibit Ragunan</td>\n",
              "      <td>Cermai</td>\n",
              "      <td>5</td>\n",
              "      <td>Pohon</td>\n",
              "      <td>375000</td>\n",
              "    </tr>\n",
              "    <tr>\n",
              "      <th>4</th>\n",
              "      <td>Penangkar Bibit Ragunan</td>\n",
              "      <td>Durian Montong</td>\n",
              "      <td>35</td>\n",
              "      <td>Pohon</td>\n",
              "      <td>8750000</td>\n",
              "    </tr>\n",
              "    <tr>\n",
              "      <th>5</th>\n",
              "      <td>Penangkar Bibit Ragunan</td>\n",
              "      <td>Durian Sitokong</td>\n",
              "      <td>42</td>\n",
              "      <td>Pohon</td>\n",
              "      <td>14700000</td>\n",
              "    </tr>\n",
              "    <tr>\n",
              "      <th>6</th>\n",
              "      <td>Penangkar Bibit Ragunan</td>\n",
              "      <td>Jeruk Kip</td>\n",
              "      <td>18</td>\n",
              "      <td>Pohon</td>\n",
              "      <td>4500000</td>\n",
              "    </tr>\n",
              "    <tr>\n",
              "      <th>7</th>\n",
              "      <td>Penangkar Bibit Ragunan</td>\n",
              "      <td>Jeruk Nipis</td>\n",
              "      <td>14</td>\n",
              "      <td>Pohon</td>\n",
              "      <td>3500000</td>\n",
              "    </tr>\n",
              "    <tr>\n",
              "      <th>8</th>\n",
              "      <td>Penangkar Bibit Ragunan</td>\n",
              "      <td>Jeruk purut</td>\n",
              "      <td>23</td>\n",
              "      <td>Pohon</td>\n",
              "      <td>3450000</td>\n",
              "    </tr>\n",
              "    <tr>\n",
              "      <th>9</th>\n",
              "      <td>Penangkar Bibit Ragunan</td>\n",
              "      <td>Jeruk limo</td>\n",
              "      <td>13</td>\n",
              "      <td>Pohon</td>\n",
              "      <td>1950000</td>\n",
              "    </tr>\n",
              "    <tr>\n",
              "      <th>10</th>\n",
              "      <td>Penangkar Bibit Ragunan</td>\n",
              "      <td>Jeruk limonti</td>\n",
              "      <td>16</td>\n",
              "      <td>Pohon</td>\n",
              "      <td>2400000</td>\n",
              "    </tr>\n",
              "    <tr>\n",
              "      <th>11</th>\n",
              "      <td>Penangkar Bibit Ragunan</td>\n",
              "      <td>Jeruk Bali</td>\n",
              "      <td>18</td>\n",
              "      <td>Pohon</td>\n",
              "      <td>3600000</td>\n",
              "    </tr>\n",
              "    <tr>\n",
              "      <th>12</th>\n",
              "      <td>Penangkar Bibit Ragunan</td>\n",
              "      <td>Jeruk Nagami</td>\n",
              "      <td>44</td>\n",
              "      <td>Pohon</td>\n",
              "      <td>11000000</td>\n",
              "    </tr>\n",
              "    <tr>\n",
              "      <th>13</th>\n",
              "      <td>Penangkar Bibit Ragunan</td>\n",
              "      <td>Mangga Manalagi</td>\n",
              "      <td>22</td>\n",
              "      <td>Pohon</td>\n",
              "      <td>5500000</td>\n",
              "    </tr>\n",
              "    <tr>\n",
              "      <th>14</th>\n",
              "      <td>Penangkar Bibit Ragunan</td>\n",
              "      <td>Mangga harum</td>\n",
              "      <td>44</td>\n",
              "      <td>Pohon</td>\n",
              "      <td>11000000</td>\n",
              "    </tr>\n",
              "    <tr>\n",
              "      <th>15</th>\n",
              "      <td>Penangkar Bibit Ragunan</td>\n",
              "      <td>Mangga ciojao</td>\n",
              "      <td>7</td>\n",
              "      <td>Pohon</td>\n",
              "      <td>5250000</td>\n",
              "    </tr>\n",
              "    <tr>\n",
              "      <th>16</th>\n",
              "      <td>Penangkar Bibit Ragunan</td>\n",
              "      <td>Belimbing Dewi</td>\n",
              "      <td>5</td>\n",
              "      <td>Pohon</td>\n",
              "      <td>750000</td>\n",
              "    </tr>\n",
              "    <tr>\n",
              "      <th>17</th>\n",
              "      <td>Penangkar Bibit Ragunan</td>\n",
              "      <td>belimbing diamond</td>\n",
              "      <td>8</td>\n",
              "      <td>Pohon</td>\n",
              "      <td>2000000</td>\n",
              "    </tr>\n",
              "    <tr>\n",
              "      <th>18</th>\n",
              "      <td>Penangkar Bibit Ragunan</td>\n",
              "      <td>Rambutan ropiah</td>\n",
              "      <td>11</td>\n",
              "      <td>Pohon</td>\n",
              "      <td>3850000</td>\n",
              "    </tr>\n",
              "    <tr>\n",
              "      <th>19</th>\n",
              "      <td>Penangkar Bibit Ragunan</td>\n",
              "      <td>rambutan Binjai</td>\n",
              "      <td>6</td>\n",
              "      <td>Pohon</td>\n",
              "      <td>2100000</td>\n",
              "    </tr>\n",
              "    <tr>\n",
              "      <th>20</th>\n",
              "      <td>Penangkar Bibit Ragunan</td>\n",
              "      <td>jambu biji</td>\n",
              "      <td>52</td>\n",
              "      <td>Pohon</td>\n",
              "      <td>13000000</td>\n",
              "    </tr>\n",
              "    <tr>\n",
              "      <th>21</th>\n",
              "      <td>Penangkar Bibit Ragunan</td>\n",
              "      <td>jambu airlilin</td>\n",
              "      <td>27</td>\n",
              "      <td>Pohon</td>\n",
              "      <td>9450000</td>\n",
              "    </tr>\n",
              "    <tr>\n",
              "      <th>22</th>\n",
              "      <td>Penangkar Bibit Ragunan</td>\n",
              "      <td>jambu citra</td>\n",
              "      <td>26</td>\n",
              "      <td>Pohon</td>\n",
              "      <td>6500000</td>\n",
              "    </tr>\n",
              "    <tr>\n",
              "      <th>23</th>\n",
              "      <td>Penangkar Bibit Ragunan</td>\n",
              "      <td>jambu air apel</td>\n",
              "      <td>11</td>\n",
              "      <td>Pohon</td>\n",
              "      <td>1650000</td>\n",
              "    </tr>\n",
              "    <tr>\n",
              "      <th>24</th>\n",
              "      <td>Penangkar Bibit Ragunan</td>\n",
              "      <td>sawo betawi</td>\n",
              "      <td>5</td>\n",
              "      <td>Pohon</td>\n",
              "      <td>750000</td>\n",
              "    </tr>\n",
              "    <tr>\n",
              "      <th>25</th>\n",
              "      <td>Penangkar Bibit Ragunan</td>\n",
              "      <td>Jamblang ungu</td>\n",
              "      <td>2</td>\n",
              "      <td>Pohon</td>\n",
              "      <td>500000</td>\n",
              "    </tr>\n",
              "    <tr>\n",
              "      <th>26</th>\n",
              "      <td>Penangkar Bibit Ragunan</td>\n",
              "      <td>manggis</td>\n",
              "      <td>2</td>\n",
              "      <td>Pohon</td>\n",
              "      <td>1400000</td>\n",
              "    </tr>\n",
              "    <tr>\n",
              "      <th>27</th>\n",
              "      <td>Penangkar Bibit Ragunan</td>\n",
              "      <td>Matoa</td>\n",
              "      <td>3</td>\n",
              "      <td>Pohon</td>\n",
              "      <td>210000</td>\n",
              "    </tr>\n",
              "    <tr>\n",
              "      <th>28</th>\n",
              "      <td>Penangkar Bibit Ragunan</td>\n",
              "      <td>sirsak</td>\n",
              "      <td>13</td>\n",
              "      <td>Pohon</td>\n",
              "      <td>1950000</td>\n",
              "    </tr>\n",
              "    <tr>\n",
              "      <th>29</th>\n",
              "      <td>Penangkar Bibit Ragunan</td>\n",
              "      <td>Srikaya</td>\n",
              "      <td>13</td>\n",
              "      <td>Pohon</td>\n",
              "      <td>975000</td>\n",
              "    </tr>\n",
              "    <tr>\n",
              "      <th>30</th>\n",
              "      <td>Penangkar Bibit Ragunan</td>\n",
              "      <td>Duku</td>\n",
              "      <td>3</td>\n",
              "      <td>Pohon</td>\n",
              "      <td>450000</td>\n",
              "    </tr>\n",
              "    <tr>\n",
              "      <th>31</th>\n",
              "      <td>Penangkar Bibit Ragunan</td>\n",
              "      <td>Markisa</td>\n",
              "      <td>8</td>\n",
              "      <td>Pohon</td>\n",
              "      <td>1200000</td>\n",
              "    </tr>\n",
              "    <tr>\n",
              "      <th>32</th>\n",
              "      <td>Penangkar Bibit Ragunan</td>\n",
              "      <td>Anggur</td>\n",
              "      <td>29</td>\n",
              "      <td>Pohon</td>\n",
              "      <td>7250000</td>\n",
              "    </tr>\n",
              "    <tr>\n",
              "      <th>33</th>\n",
              "      <td>Penangkar Bibit Ragunan</td>\n",
              "      <td>Rukem</td>\n",
              "      <td>10</td>\n",
              "      <td>Pohon</td>\n",
              "      <td>1500000</td>\n",
              "    </tr>\n",
              "    <tr>\n",
              "      <th>34</th>\n",
              "      <td>Penangkar Bibit Ragunan</td>\n",
              "      <td>Leci</td>\n",
              "      <td>2</td>\n",
              "      <td>Pohon</td>\n",
              "      <td>120000</td>\n",
              "    </tr>\n",
              "    <tr>\n",
              "      <th>35</th>\n",
              "      <td>Penangkar Bibit Ragunan</td>\n",
              "      <td>Kedongdong</td>\n",
              "      <td>3</td>\n",
              "      <td>Pohon</td>\n",
              "      <td>375000</td>\n",
              "    </tr>\n",
              "    <tr>\n",
              "      <th>36</th>\n",
              "      <td>Penangkar Bibit Ragunan</td>\n",
              "      <td>Alpukat</td>\n",
              "      <td>30</td>\n",
              "      <td>Pohon</td>\n",
              "      <td>7500000</td>\n",
              "    </tr>\n",
              "    <tr>\n",
              "      <th>37</th>\n",
              "      <td>Penangkar Bibit Ragunan</td>\n",
              "      <td>pohon kepel</td>\n",
              "      <td>9</td>\n",
              "      <td>Pohon</td>\n",
              "      <td>450000</td>\n",
              "    </tr>\n",
              "    <tr>\n",
              "      <th>38</th>\n",
              "      <td>Penangkar Bibit Ragunan</td>\n",
              "      <td>jengkol</td>\n",
              "      <td>12</td>\n",
              "      <td>Pohon</td>\n",
              "      <td>900000</td>\n",
              "    </tr>\n",
              "    <tr>\n",
              "      <th>39</th>\n",
              "      <td>Penangkar Bibit Ragunan</td>\n",
              "      <td>Cincau</td>\n",
              "      <td>5</td>\n",
              "      <td>Pohon</td>\n",
              "      <td>250000</td>\n",
              "    </tr>\n",
              "    <tr>\n",
              "      <th>40</th>\n",
              "      <td>Penangkar Bibit Ragunan</td>\n",
              "      <td>sirih merah</td>\n",
              "      <td>21</td>\n",
              "      <td>Pohon</td>\n",
              "      <td>1680000</td>\n",
              "    </tr>\n",
              "    <tr>\n",
              "      <th>41</th>\n",
              "      <td>Penangkar Bibit Ragunan</td>\n",
              "      <td>cabe merah</td>\n",
              "      <td>5</td>\n",
              "      <td>Pohon</td>\n",
              "      <td>375000</td>\n",
              "    </tr>\n",
              "  </tbody>\n",
              "</table>\n",
              "</div>\n",
              "      <button class=\"colab-df-convert\" onclick=\"convertToInteractive('df-52941275-e4e7-4baa-a3ee-e407e6d67361')\"\n",
              "              title=\"Convert this dataframe to an interactive table.\"\n",
              "              style=\"display:none;\">\n",
              "        \n",
              "  <svg xmlns=\"http://www.w3.org/2000/svg\" height=\"24px\"viewBox=\"0 0 24 24\"\n",
              "       width=\"24px\">\n",
              "    <path d=\"M0 0h24v24H0V0z\" fill=\"none\"/>\n",
              "    <path d=\"M18.56 5.44l.94 2.06.94-2.06 2.06-.94-2.06-.94-.94-2.06-.94 2.06-2.06.94zm-11 1L8.5 8.5l.94-2.06 2.06-.94-2.06-.94L8.5 2.5l-.94 2.06-2.06.94zm10 10l.94 2.06.94-2.06 2.06-.94-2.06-.94-.94-2.06-.94 2.06-2.06.94z\"/><path d=\"M17.41 7.96l-1.37-1.37c-.4-.4-.92-.59-1.43-.59-.52 0-1.04.2-1.43.59L10.3 9.45l-7.72 7.72c-.78.78-.78 2.05 0 2.83L4 21.41c.39.39.9.59 1.41.59.51 0 1.02-.2 1.41-.59l7.78-7.78 2.81-2.81c.8-.78.8-2.07 0-2.86zM5.41 20L4 18.59l7.72-7.72 1.47 1.35L5.41 20z\"/>\n",
              "  </svg>\n",
              "      </button>\n",
              "      \n",
              "  <style>\n",
              "    .colab-df-container {\n",
              "      display:flex;\n",
              "      flex-wrap:wrap;\n",
              "      gap: 12px;\n",
              "    }\n",
              "\n",
              "    .colab-df-convert {\n",
              "      background-color: #E8F0FE;\n",
              "      border: none;\n",
              "      border-radius: 50%;\n",
              "      cursor: pointer;\n",
              "      display: none;\n",
              "      fill: #1967D2;\n",
              "      height: 32px;\n",
              "      padding: 0 0 0 0;\n",
              "      width: 32px;\n",
              "    }\n",
              "\n",
              "    .colab-df-convert:hover {\n",
              "      background-color: #E2EBFA;\n",
              "      box-shadow: 0px 1px 2px rgba(60, 64, 67, 0.3), 0px 1px 3px 1px rgba(60, 64, 67, 0.15);\n",
              "      fill: #174EA6;\n",
              "    }\n",
              "\n",
              "    [theme=dark] .colab-df-convert {\n",
              "      background-color: #3B4455;\n",
              "      fill: #D2E3FC;\n",
              "    }\n",
              "\n",
              "    [theme=dark] .colab-df-convert:hover {\n",
              "      background-color: #434B5C;\n",
              "      box-shadow: 0px 1px 3px 1px rgba(0, 0, 0, 0.15);\n",
              "      filter: drop-shadow(0px 1px 2px rgba(0, 0, 0, 0.3));\n",
              "      fill: #FFFFFF;\n",
              "    }\n",
              "  </style>\n",
              "\n",
              "      <script>\n",
              "        const buttonEl =\n",
              "          document.querySelector('#df-52941275-e4e7-4baa-a3ee-e407e6d67361 button.colab-df-convert');\n",
              "        buttonEl.style.display =\n",
              "          google.colab.kernel.accessAllowed ? 'block' : 'none';\n",
              "\n",
              "        async function convertToInteractive(key) {\n",
              "          const element = document.querySelector('#df-52941275-e4e7-4baa-a3ee-e407e6d67361');\n",
              "          const dataTable =\n",
              "            await google.colab.kernel.invokeFunction('convertToInteractive',\n",
              "                                                     [key], {});\n",
              "          if (!dataTable) return;\n",
              "\n",
              "          const docLinkHtml = 'Like what you see? Visit the ' +\n",
              "            '<a target=\"_blank\" href=https://colab.research.google.com/notebooks/data_table.ipynb>data table notebook</a>'\n",
              "            + ' to learn more about interactive tables.';\n",
              "          element.innerHTML = '';\n",
              "          dataTable['output_type'] = 'display_data';\n",
              "          await google.colab.output.renderOutput(dataTable, element);\n",
              "          const docLink = document.createElement('div');\n",
              "          docLink.innerHTML = docLinkHtml;\n",
              "          element.appendChild(docLink);\n",
              "        }\n",
              "      </script>\n",
              "    </div>\n",
              "  </div>\n",
              "  "
            ]
          },
          "metadata": {},
          "execution_count": 275
        }
      ]
    },
    {
      "cell_type": "code",
      "source": [
        "import matplotlib.pyplot as plt\n",
        "\n",
        "df.plot(kind='scatter',x='volume',y='omzet_(rp)')\n",
        "\n",
        "plt.title('Data Jumlah Omzet')\n",
        "plt.xlabel('Volume')\n",
        "plt.ylabel('Omzet')\n",
        "plt.xlim(0, 55)\n",
        "plt.ylim(0, 15000000)\n",
        "plt.grid(True)\n",
        "plt.show()"
      ],
      "metadata": {
        "colab": {
          "base_uri": "https://localhost:8080/",
          "height": 295
        },
        "id": "i2a0qqKM0iRS",
        "outputId": "e59563f8-6f62-417e-c7d1-9f46592fea40"
      },
      "execution_count": null,
      "outputs": [
        {
          "output_type": "display_data",
          "data": {
            "text/plain": [
              "<Figure size 432x288 with 1 Axes>"
            ],
            "image/png": "[encoded data removed]"
          },
          "metadata": {
            "needs_background": "light"
          }
        }
      ]
    },
    {
      "cell_type": "code",
      "source": [
        "import numpy as np\n",
        "x = np.array(df['volume'])\n",
        "y = np.array(df['omzet_(rp)'])\n",
        "\n",
        "print(f'X : {x}')\n",
        "print(f'Y : {y}')"
      ],
      "metadata": {
        "colab": {
          "base_uri": "https://localhost:8080/"
        },
        "id": "TfAGS_D67n9V",
        "outputId": "a66c9e9f-7c65-4457-e800-0da4c74bfa6c"
      },
      "execution_count": null,
      "outputs": [
        {
          "output_type": "stream",
          "name": "stdout",
          "text": [
            "X : [ 3  8  3  5 35 42 18 14 23 13 16 18 44 22 44  7  5  8 11  6 52 27 26 11\n",
            "  5  2  2  3 13 13  3  8 29 10  2  3 30  9 12  5 21  5]\n",
            "Y : [  750000  1200000   450000   375000  8750000 14700000  4500000  3500000\n",
            "  3450000  1950000  2400000  3600000 11000000  5500000 11000000  5250000\n",
            "   750000  2000000  3850000  2100000 13000000  9450000  6500000  1650000\n",
            "   750000   500000  1400000   210000  1950000   975000   450000  1200000\n",
            "  7250000  1500000   120000   375000  7500000   450000   900000   250000\n",
            "  1680000   375000]\n"
          ]
        }
      ]
    },
    {
      "cell_type": "code",
      "source": [
        "x = x.reshape(-1, 1)\n",
        "x.shape"
      ],
      "metadata": {
        "colab": {
          "base_uri": "https://localhost:8080/"
        },
        "id": "krjvG-L4-t5d",
        "outputId": "8d962ced-103b-4ca2-aa2f-f23e69961845"
      },
      "execution_count": null,
      "outputs": [
        {
          "output_type": "execute_result",
          "data": {
            "text/plain": [
              "(42, 1)"
            ]
          },
          "metadata": {},
          "execution_count": 278
        }
      ]
    },
    {
      "cell_type": "code",
      "source": [
        "x"
      ],
      "metadata": {
        "colab": {
          "base_uri": "https://localhost:8080/"
        },
        "id": "7PCI1q8O-vIV",
        "outputId": "ee32ee4d-8b37-4cd1-b95e-041ba6388c3b"
      },
      "execution_count": null,
      "outputs": [
        {
          "output_type": "execute_result",
          "data": {
            "text/plain": [
              "array([[ 3],\n",
              "       [ 8],\n",
              "       [ 3],\n",
              "       [ 5],\n",
              "       [35],\n",
              "       [42],\n",
              "       [18],\n",
              "       [14],\n",
              "       [23],\n",
              "       [13],\n",
              "       [16],\n",
              "       [18],\n",
              "       [44],\n",
              "       [22],\n",
              "       [44],\n",
              "       [ 7],\n",
              "       [ 5],\n",
              "       [ 8],\n",
              "       [11],\n",
              "       [ 6],\n",
              "       [52],\n",
              "       [27],\n",
              "       [26],\n",
              "       [11],\n",
              "       [ 5],\n",
              "       [ 2],\n",
              "       [ 2],\n",
              "       [ 3],\n",
              "       [13],\n",
              "       [13],\n",
              "       [ 3],\n",
              "       [ 8],\n",
              "       [29],\n",
              "       [10],\n",
              "       [ 2],\n",
              "       [ 3],\n",
              "       [30],\n",
              "       [ 9],\n",
              "       [12],\n",
              "       [ 5],\n",
              "       [21],\n",
              "       [ 5]])"
            ]
          },
          "metadata": {},
          "execution_count": 279
        }
      ]
    },
    {
      "cell_type": "code",
      "source": [
        "from sklearn.linear_model import LinearRegression\n",
        "\n",
        "model = LinearRegression()\n",
        "model.fit(x,y)"
      ],
      "metadata": {
        "colab": {
          "base_uri": "https://localhost:8080/"
        },
        "id": "S1Z3zJLn-wb9",
        "outputId": "45993c86-8529-4f24-eca9-d497a79fdefd"
      },
      "execution_count": null,
      "outputs": [
        {
          "output_type": "execute_result",
          "data": {
            "text/plain": [
              "LinearRegression()"
            ]
          },
          "metadata": {},
          "execution_count": 280
        }
      ]
    },
    {
      "cell_type": "code",
      "source": [
        "x_vis = np.array([0, 15000000]).reshape(-1,1) #Pembuatan Garis Merah\n",
        "y_vis = model.predict(x_vis) #Model machine learning"
      ],
      "metadata": {
        "id": "c5Sbv2ep-34t"
      },
      "execution_count": null,
      "outputs": []
    },
    {
      "cell_type": "code",
      "source": [
        "plt.scatter(x,y)\n",
        "plt.plot(x_vis, y_vis, '-r')\n",
        "plt.title('Indeks')\n",
        "plt.xlabel('volume')\n",
        "plt.ylabel('Omzet')\n",
        "plt.xlim(0, 55)\n",
        "plt.ylim(0, 15000000)\n",
        "plt.grid(True)\n",
        "plt.show()"
      ],
      "metadata": {
        "colab": {
          "base_uri": "https://localhost:8080/",
          "height": 295
        },
        "id": "0Tf5wUuB-9pd",
        "outputId": "7656406e-2c07-4ee6-a4e6-b33ef6cec206"
      },
      "execution_count": null,
      "outputs": [
        {
          "output_type": "display_data",
          "data": {
            "text/plain": [
              "<Figure size 432x288 with 1 Axes>"
            ],
            "image/png": "[encoded data removed]"
          },
          "metadata": {
            "needs_background": "light"
          }
        }
      ]
    },
    {
      "cell_type": "code",
      "source": [
        "print(f'intercept : {model.intercept_}')\n",
        "print(f\"slope : {model.coef_}\")"
      ],
      "metadata": {
        "colab": {
          "base_uri": "https://localhost:8080/"
        },
        "id": "7PAMwAO6Q07O",
        "outputId": "edb58a94-07ea-4c6e-a655-a62914f1e53c"
      },
      "execution_count": null,
      "outputs": [
        {
          "output_type": "stream",
          "name": "stdout",
          "text": [
            "intercept : -663841.0072420435\n",
            "slope : [272627.86525812]\n"
          ]
        }
      ]
    },
    {
      "cell_type": "code",
      "source": [
        "#Prediksi sample data\n",
        "volume = np.array([6500000, 7250000, 7500000, 8750000, 14700000]).reshape(-1,1)\n",
        "volume"
      ],
      "metadata": {
        "colab": {
          "base_uri": "https://localhost:8080/"
        },
        "id": "rhF5o0RaQ5M8",
        "outputId": "c44b2979-7bc2-4d76-db5d-a53f73d0a3ca"
      },
      "execution_count": null,
      "outputs": [
        {
          "output_type": "execute_result",
          "data": {
            "text/plain": [
              "array([[ 6500000],\n",
              "       [ 7250000],\n",
              "       [ 7500000],\n",
              "       [ 8750000],\n",
              "       [14700000]])"
            ]
          },
          "metadata": {},
          "execution_count": 284
        }
      ]
    },
    {
      "cell_type": "code",
      "source": [
        "prediksi_indeks = model.predict(volume)\n",
        "prediksi_indeks"
      ],
      "metadata": {
        "colab": {
          "base_uri": "https://localhost:8080/"
        },
        "id": "dNU3F3AURSdM",
        "outputId": "12c22451-236b-4251-f480-a0fffdf5b1d7"
      },
      "execution_count": null,
      "outputs": [
        {
          "output_type": "execute_result",
          "data": {
            "text/plain": [
              "array([1.77208046e+12, 1.97655136e+12, 2.04470833e+12, 2.38549316e+12,\n",
              "       4.00762896e+12])"
            ]
          },
          "metadata": {},
          "execution_count": 285
        }
      ]
    },
    {
      "cell_type": "code",
      "source": [
        "for penduduk, index in zip(volume, prediksi_indeks):\n",
        "  print(f'Jumlah Penduduk : {penduduk} Prediksi Indeks : {index}')"
      ],
      "metadata": {
        "colab": {
          "base_uri": "https://localhost:8080/"
        },
        "id": "ndmbaaFuRTAM",
        "outputId": "82778a4b-1de6-40f3-f7b5-9df02ad9653d"
      },
      "execution_count": null,
      "outputs": [
        {
          "output_type": "stream",
          "name": "stdout",
          "text": [
            "Jumlah Penduduk : [6500000] Prediksi Indeks : 1772080460336.788\n",
            "Jumlah Penduduk : [7250000] Prediksi Indeks : 1976551359280.38\n",
            "Jumlah Penduduk : [7500000] Prediksi Indeks : 2044708325594.9106\n",
            "Jumlah Penduduk : [8750000] Prediksi Indeks : 2385493157167.5635\n",
            "Jumlah Penduduk : [14700000] Prediksi Indeks : 4007628955453.3916\n"
          ]
        }
      ]
    }
  ]
}